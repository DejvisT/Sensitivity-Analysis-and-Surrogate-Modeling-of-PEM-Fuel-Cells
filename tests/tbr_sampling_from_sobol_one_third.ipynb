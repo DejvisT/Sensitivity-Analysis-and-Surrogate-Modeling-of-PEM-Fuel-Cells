{
 "cells": [
  {
   "cell_type": "markdown",
   "id": "5fbdd8d2",
   "metadata": {},
   "source": [
    "# Sobol sample selection for AlphaPEM + Simulations\n",
    "\n",
    "**Purpose**:  \n",
    "This script loads the full Sobol-sampled parameter space from `../data/raw/sobol_sampling_configurations_cmpl.pkl`, splits it into thirds,  selects the *middle third* (as assigned to me, Nathaly), and randomly samples `n=4000` configurations  \n",
    "from it to be evaluated with the AlphaPEM model.\n",
    "\n",
    "The resulting polarization curves are saved to: `../data/raw/sobol_sample_middle_4000.pkl`"
   ]
  },
  {
   "cell_type": "code",
   "execution_count": 20,
   "id": "19a1be52",
   "metadata": {},
   "outputs": [],
   "source": [
    "import os\n",
    "import sys\n",
    "import pickle\n",
    "import random\n",
    "import pandas as pd\n",
    "import time"
   ]
  },
  {
   "cell_type": "code",
   "execution_count": 5,
   "id": "fcc72cd4",
   "metadata": {},
   "outputs": [],
   "source": [
    "sys.path.append(os.path.abspath(\"../external/AlphaPEM_v1.0/\"))\n",
    "\n",
    "from configuration.settings import current_density_parameters, physical_parameters, computing_parameters, operating_inputs\n",
    "from modules.display_modules import plot_lambda\n",
    "from model.AlphaPEM import AlphaPEM\n",
    "\n",
    "sys.path.append(os.path.abspath(os.path.join(os.getcwd(), '..')))\n",
    "from src.sampling.sampler import get_polarisation_curve_samples, build_fixed_parameters, sample_parameters, PARAMETER_RANGES"
   ]
  },
  {
   "cell_type": "markdown",
   "id": "6772ed6e",
   "metadata": {},
   "source": [
    "First, load the full Sobol sample."
   ]
  },
  {
   "cell_type": "code",
   "execution_count": 7,
   "id": "3c37616a",
   "metadata": {},
   "outputs": [
    {
     "name": "stdout",
     "output_type": "stream",
     "text": [
      "Variables in Sobol DataFrame: ['Tfc', 'Pa_des', 'Sc', 'Phi_c_des', 'epsilon_gdl', 'tau', 'epsilon_mc', 'epsilon_c', 'e', 'Re', 'i0_c_ref', 'kappa_co', 'kappa_c', 'a_slim', 'b_slim', 'a_switch', 'Pc_des']\n",
      "Total samples available: 38000\n"
     ]
    },
    {
     "data": {
      "text/html": [
       "<div>\n",
       "<style scoped>\n",
       "    .dataframe tbody tr th:only-of-type {\n",
       "        vertical-align: middle;\n",
       "    }\n",
       "\n",
       "    .dataframe tbody tr th {\n",
       "        vertical-align: top;\n",
       "    }\n",
       "\n",
       "    .dataframe thead th {\n",
       "        text-align: right;\n",
       "    }\n",
       "</style>\n",
       "<table border=\"1\" class=\"dataframe\">\n",
       "  <thead>\n",
       "    <tr style=\"text-align: right;\">\n",
       "      <th></th>\n",
       "      <th>Tfc</th>\n",
       "      <th>Pa_des</th>\n",
       "      <th>Sc</th>\n",
       "      <th>Phi_c_des</th>\n",
       "      <th>epsilon_gdl</th>\n",
       "      <th>tau</th>\n",
       "      <th>epsilon_mc</th>\n",
       "      <th>epsilon_c</th>\n",
       "      <th>e</th>\n",
       "      <th>Re</th>\n",
       "      <th>i0_c_ref</th>\n",
       "      <th>kappa_co</th>\n",
       "      <th>kappa_c</th>\n",
       "      <th>a_slim</th>\n",
       "      <th>b_slim</th>\n",
       "      <th>a_switch</th>\n",
       "      <th>Pc_des</th>\n",
       "    </tr>\n",
       "  </thead>\n",
       "  <tbody>\n",
       "    <tr>\n",
       "      <th>0</th>\n",
       "      <td>335.015900</td>\n",
       "      <td>215267.894967</td>\n",
       "      <td>2.784156</td>\n",
       "      <td>0.607013</td>\n",
       "      <td>0.663508</td>\n",
       "      <td>2.960479</td>\n",
       "      <td>0.268524</td>\n",
       "      <td>0.237199</td>\n",
       "      <td>4.0</td>\n",
       "      <td>0.000002</td>\n",
       "      <td>449.366354</td>\n",
       "      <td>18.059504</td>\n",
       "      <td>73.490571</td>\n",
       "      <td>0.043931</td>\n",
       "      <td>0.924738</td>\n",
       "      <td>0.877939</td>\n",
       "      <td>195267.894967</td>\n",
       "    </tr>\n",
       "    <tr>\n",
       "      <th>1</th>\n",
       "      <td>335.930971</td>\n",
       "      <td>215267.894967</td>\n",
       "      <td>2.784156</td>\n",
       "      <td>0.607013</td>\n",
       "      <td>0.663508</td>\n",
       "      <td>2.960479</td>\n",
       "      <td>0.268524</td>\n",
       "      <td>0.237199</td>\n",
       "      <td>4.0</td>\n",
       "      <td>0.000002</td>\n",
       "      <td>449.366354</td>\n",
       "      <td>18.059504</td>\n",
       "      <td>73.490571</td>\n",
       "      <td>0.043931</td>\n",
       "      <td>0.924738</td>\n",
       "      <td>0.877939</td>\n",
       "      <td>195267.894967</td>\n",
       "    </tr>\n",
       "    <tr>\n",
       "      <th>2</th>\n",
       "      <td>335.015900</td>\n",
       "      <td>164712.670632</td>\n",
       "      <td>2.784156</td>\n",
       "      <td>0.607013</td>\n",
       "      <td>0.663508</td>\n",
       "      <td>2.960479</td>\n",
       "      <td>0.268524</td>\n",
       "      <td>0.237199</td>\n",
       "      <td>4.0</td>\n",
       "      <td>0.000002</td>\n",
       "      <td>449.366354</td>\n",
       "      <td>18.059504</td>\n",
       "      <td>73.490571</td>\n",
       "      <td>0.043931</td>\n",
       "      <td>0.924738</td>\n",
       "      <td>0.877939</td>\n",
       "      <td>144712.670632</td>\n",
       "    </tr>\n",
       "    <tr>\n",
       "      <th>3</th>\n",
       "      <td>335.015900</td>\n",
       "      <td>215267.894967</td>\n",
       "      <td>2.837283</td>\n",
       "      <td>0.607013</td>\n",
       "      <td>0.663508</td>\n",
       "      <td>2.960479</td>\n",
       "      <td>0.268524</td>\n",
       "      <td>0.237199</td>\n",
       "      <td>4.0</td>\n",
       "      <td>0.000002</td>\n",
       "      <td>449.366354</td>\n",
       "      <td>18.059504</td>\n",
       "      <td>73.490571</td>\n",
       "      <td>0.043931</td>\n",
       "      <td>0.924738</td>\n",
       "      <td>0.877939</td>\n",
       "      <td>195267.894967</td>\n",
       "    </tr>\n",
       "    <tr>\n",
       "      <th>4</th>\n",
       "      <td>335.015900</td>\n",
       "      <td>215267.894967</td>\n",
       "      <td>2.784156</td>\n",
       "      <td>0.340410</td>\n",
       "      <td>0.663508</td>\n",
       "      <td>2.960479</td>\n",
       "      <td>0.268524</td>\n",
       "      <td>0.237199</td>\n",
       "      <td>4.0</td>\n",
       "      <td>0.000002</td>\n",
       "      <td>449.366354</td>\n",
       "      <td>18.059504</td>\n",
       "      <td>73.490571</td>\n",
       "      <td>0.043931</td>\n",
       "      <td>0.924738</td>\n",
       "      <td>0.877939</td>\n",
       "      <td>195267.894967</td>\n",
       "    </tr>\n",
       "  </tbody>\n",
       "</table>\n",
       "</div>"
      ],
      "text/plain": [
       "          Tfc         Pa_des        Sc  Phi_c_des  epsilon_gdl       tau  \\\n",
       "0  335.015900  215267.894967  2.784156   0.607013     0.663508  2.960479   \n",
       "1  335.930971  215267.894967  2.784156   0.607013     0.663508  2.960479   \n",
       "2  335.015900  164712.670632  2.784156   0.607013     0.663508  2.960479   \n",
       "3  335.015900  215267.894967  2.837283   0.607013     0.663508  2.960479   \n",
       "4  335.015900  215267.894967  2.784156   0.340410     0.663508  2.960479   \n",
       "\n",
       "   epsilon_mc  epsilon_c    e        Re    i0_c_ref   kappa_co    kappa_c  \\\n",
       "0    0.268524   0.237199  4.0  0.000002  449.366354  18.059504  73.490571   \n",
       "1    0.268524   0.237199  4.0  0.000002  449.366354  18.059504  73.490571   \n",
       "2    0.268524   0.237199  4.0  0.000002  449.366354  18.059504  73.490571   \n",
       "3    0.268524   0.237199  4.0  0.000002  449.366354  18.059504  73.490571   \n",
       "4    0.268524   0.237199  4.0  0.000002  449.366354  18.059504  73.490571   \n",
       "\n",
       "     a_slim    b_slim  a_switch         Pc_des  \n",
       "0  0.043931  0.924738  0.877939  195267.894967  \n",
       "1  0.043931  0.924738  0.877939  195267.894967  \n",
       "2  0.043931  0.924738  0.877939  144712.670632  \n",
       "3  0.043931  0.924738  0.877939  195267.894967  \n",
       "4  0.043931  0.924738  0.877939  195267.894967  "
      ]
     },
     "execution_count": 7,
     "metadata": {},
     "output_type": "execute_result"
    }
   ],
   "source": [
    "sobol_path = '../data/raw/sobol_sampling_configurations_cmpl.pkl'\n",
    "with open(sobol_path, 'rb') as f:\n",
    "    sobol_df = pickle.load(f)\n",
    "\n",
    "print(\"Variables in Sobol DataFrame:\", sobol_df.columns.tolist())\n",
    "print(\"Total samples available:\", len(sobol_df))\n",
    "\n",
    "sobol_df.head()"
   ]
  },
  {
   "cell_type": "markdown",
   "id": "dbfa13da",
   "metadata": {},
   "source": [
    "Now, extract the middle third of the dataset."
   ]
  },
  {
   "cell_type": "code",
   "execution_count": 11,
   "id": "c3e9cb4e",
   "metadata": {},
   "outputs": [
    {
     "name": "stdout",
     "output_type": "stream",
     "text": [
      "Middle third size: 12666\n"
     ]
    }
   ],
   "source": [
    "total = len(sobol_df)\n",
    "one_third = total // 3\n",
    "\n",
    "lower_df = sobol_df.iloc[:one_third].copy()\n",
    "middle_df = sobol_df.iloc[one_third:2 * one_third].copy()\n",
    "upper_df = sobol_df.iloc[2 * one_third:].copy()\n",
    "\n",
    "print(\"Middle third size:\", len(middle_df))"
   ]
  },
  {
   "cell_type": "markdown",
   "id": "5e2696a8",
   "metadata": {},
   "source": [
    "For this execution, I will only be generating 4000 \"samples\" from the AlphaPEM simulator."
   ]
  },
  {
   "cell_type": "code",
   "execution_count": 14,
   "id": "a65a92bd",
   "metadata": {},
   "outputs": [],
   "source": [
    "n = 4000\n",
    "sampled_df = middle_df.sample(n=n, random_state=42)\n",
    "remaining_middle_df = middle_df.drop(index=sampled_df.index)\n",
    "sampled_df = sampled_df.reset_index(drop=True)"
   ]
  },
  {
   "cell_type": "markdown",
   "id": "aa6b3e64",
   "metadata": {},
   "source": [
    "For traceability, I will save all components to sobol_sampling_design folder."
   ]
  },
  {
   "cell_type": "code",
   "execution_count": 15,
   "id": "253db39e",
   "metadata": {},
   "outputs": [
    {
     "name": "stdout",
     "output_type": "stream",
     "text": [
      "Saved to folder: ../data/raw/sobol_sampling_design\n",
      "- Sampled 4000 configs: ../data/raw/sobol_sampling_design\\middle_sampled_4000_configs.pkl\n",
      "- Remaining middle third (not yet sampled): ../data/raw/sobol_sampling_design\\middle_not_sampled_yet_until_07.06.2025_nathaly.pkl\n"
     ]
    }
   ],
   "source": [
    "save_dir = '../data/raw/sobol_sampling_design'\n",
    "os.makedirs(save_dir, exist_ok=True)\n",
    "\n",
    "# Save our division \n",
    "lower_df.to_pickle(os.path.join(save_dir, 'sobol_third_lower.pkl'))     # Dejvis\n",
    "middle_df.to_pickle(os.path.join(save_dir, 'sobol_third_middle.pkl'))   # Nathaly\n",
    "upper_df.to_pickle(os.path.join(save_dir, 'sobol_third_upper.pkl'))     # Camila\n",
    "\n",
    "# Save my sampled configs (only 4000 from middle part)\n",
    "sampled_config_path = os.path.join(save_dir, 'middle_sampled_4000_configs.pkl')\n",
    "sampled_df.to_pickle(sampled_config_path)\n",
    "\n",
    "# Save middle-third configs *not yet sampled*\n",
    "not_sampled_path = os.path.join(save_dir, 'middle_not_sampled_yet_until_07.06.2025_nathaly.pkl')\n",
    "remaining_middle_df.to_pickle(not_sampled_path)\n",
    "\n",
    "print(f\"Saved to folder: {save_dir}\")\n",
    "print(f\"- Sampled 4000 configs: {sampled_config_path}\")\n",
    "print(f\"- Remaining middle third (not yet sampled): {not_sampled_path}\")"
   ]
  },
  {
   "cell_type": "code",
   "execution_count": null,
   "id": "9bf0c11a",
   "metadata": {},
   "outputs": [],
   "source": [
    "save_dir_results = '../data/raw/sobol_sampling_design/results'\n",
    "os.makedirs(save_dir_results, exist_ok=True)\n",
    "\n",
    "output_path = '../data/raw/sobol_sample_middle_4000.pkl'\n",
    "results = get_polarisation_curve_samples(\n",
    "    sampled_parameters=sampled_df.to_dict(orient='records'),\n",
    "    fixed_parameters=build_fixed_parameters(),\n",
    "    save_path=output_path\n",
    ")\n",
    "\n",
    "print(f\"Saved sampled results to: {output_path}\")"
   ]
  },
  {
   "cell_type": "code",
   "execution_count": null,
   "id": "7b4cb33a",
   "metadata": {},
   "outputs": [
    {
     "name": "stdout",
     "output_type": "stream",
     "text": [
      "\n",
      "Running test with 4 configurations (~0.01% of 4000)\n"
     ]
    }
   ],
   "source": [
    "test_fraction = 0.001\n",
    "test_n = int(len(sampled_df) * test_fraction)\n",
    "test_df = sampled_df.sample(n=test_n, random_state=123).reset_index(drop=True)\n",
    "\n",
    "print(f\"\\nRunning test with {test_n} configurations (~0.01% of 4000)\")\n",
    "\n"
   ]
  },
  {
   "cell_type": "code",
   "execution_count": 24,
   "id": "1753dbcb",
   "metadata": {},
   "outputs": [
    {
     "name": "stdout",
     "output_type": "stream",
     "text": [
      "\n",
      "📁 Final save complete: ../data/raw/sobol_sampling_design/results\\test_sampled_5pct_results.pkl with 4 samples.\n",
      "\n",
      "Test complete.\n",
      "Total time: 413.60 seconds\n",
      "Average per simulation: 103.40 seconds\n",
      "Results saved to: ../data/raw/sobol_sampling_design/results\\test_sampled_5pct_results.pkl\n"
     ]
    }
   ],
   "source": [
    "# Time the simulation\n",
    "start_time = time.time()\n",
    "\n",
    "test_output_path = os.path.join(save_dir_results, 'test_sampled_5pct_results.pkl')\n",
    "test_results = get_polarisation_curve_samples(\n",
    "    sampled_parameters=test_df.to_dict(orient='records'),\n",
    "    fixed_parameters=build_fixed_parameters(),\n",
    "    save_path=test_output_path\n",
    ")\n",
    "\n",
    "end_time = time.time()\n",
    "elapsed_time = end_time - start_time\n",
    "avg_time = elapsed_time / test_n\n",
    "\n",
    "print(f\"\\nTest complete.\")\n",
    "print(f\"Total time: {elapsed_time:.2f} seconds\")\n",
    "print(f\"Average per simulation: {avg_time:.2f} seconds\")\n",
    "print(f\"Results saved to: {test_output_path}\")"
   ]
  },
  {
   "cell_type": "code",
   "execution_count": 26,
   "id": "224147bd",
   "metadata": {},
   "outputs": [
    {
     "name": "stdout",
     "output_type": "stream",
     "text": [
      "Loaded results type: <class 'pandas.core.frame.DataFrame'>\n"
     ]
    }
   ],
   "source": [
    "with open(test_output_path, 'rb') as f:\n",
    "    loaded_results = pickle.load(f)\n",
    "\n",
    "print(f\"Loaded results type: {type(loaded_results)}\")\n",
    "if isinstance(loaded_results, list):\n",
    "    print(f\"Number of results: {len(loaded_results)}\")\n",
    "    print(f\"Sample keys from one entry: {loaded_results[0].keys() if loaded_results else 'No results'}\")"
   ]
  },
  {
   "cell_type": "code",
   "execution_count": 28,
   "id": "6ea9623c",
   "metadata": {},
   "outputs": [
    {
     "name": "stdout",
     "output_type": "stream",
     "text": [
      "Number of CPU cores available: 8\n"
     ]
    }
   ],
   "source": [
    "import multiprocessing\n",
    "print(f\"Number of CPU cores available: {multiprocessing.cpu_count()}\")\n"
   ]
  }
 ],
 "metadata": {
  "kernelspec": {
   "display_name": "env_PEM",
   "language": "python",
   "name": "python3"
  },
  "language_info": {
   "codemirror_mode": {
    "name": "ipython",
    "version": 3
   },
   "file_extension": ".py",
   "mimetype": "text/x-python",
   "name": "python",
   "nbconvert_exporter": "python",
   "pygments_lexer": "ipython3",
   "version": "3.12.7"
  }
 },
 "nbformat": 4,
 "nbformat_minor": 5
}
