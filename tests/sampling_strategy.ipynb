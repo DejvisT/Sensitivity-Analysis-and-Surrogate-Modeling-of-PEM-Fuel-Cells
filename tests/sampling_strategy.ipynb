{
 "cells": [
  {
   "cell_type": "code",
   "execution_count": 1,
   "id": "455d6ba1",
   "metadata": {},
   "outputs": [],
   "source": [
    "import sys\n",
    "import os \n",
    "import numpy as np\n",
    "import pandas as pd\n",
    "from scipy.stats.qmc import Sobol\n",
    "from SALib.util import scale_samples\n",
    "from SALib.sample import sobol\n",
    "from SALib.analyze import sobol as sobol_analyze\n",
    "import random\n",
    "\n",
    "sys.path.append(os.path.abspath(os.path.join(os.getcwd(), '..')))\n",
    "from src.sampling.sampler import get_polarisation_curve_samples, build_fixed_parameters, sample_parameters, PARAMETER_RANGES\n",
    "from configuration.settings import current_density_parameters, physical_parameters, computing_parameters, operating_inputs\n",
    "from modules.display_modules import plot_lambda\n",
    "from model.AlphaPEM import AlphaPEM"
   ]
  },
  {
   "cell_type": "markdown",
   "id": "2700fbbd",
   "metadata": {},
   "source": [
    "###  **We define different sets of bounds depending on the experiments we wan to run**"
   ]
  },
  {
   "cell_type": "code",
   "execution_count": null,
   "id": "91dfe39f",
   "metadata": {},
   "outputs": [
    {
     "data": {
      "text/plain": [
       "{'Tfc': (333, 363),\n",
       " 'Pa_des': (130000.0, 300000.0),\n",
       " 'Pc_des': None,\n",
       " 'Sc': (1.1, 3),\n",
       " 'Phi_c_des': (0.1, 0.7),\n",
       " 'epsilon_gdl': (0.55, 0.8),\n",
       " 'tau': (1.0, 4.0),\n",
       " 'epsilon_mc': (0.15, 0.4),\n",
       " 'epsilon_c': (0.15, 0.3),\n",
       " 'e': [3, 4, 5],\n",
       " 'Re': (5e-07, 5e-06),\n",
       " 'i0_c_ref': (0.001, 500),\n",
       " 'kappa_co': (0.01, 40),\n",
       " 'kappa_c': (0, 100),\n",
       " 'a_slim': (0, 1),\n",
       " 'b_slim': (0, 1),\n",
       " 'a_switch': (0, 1)}"
      ]
     },
     "execution_count": 3,
     "metadata": {},
     "output_type": "execute_result"
    }
   ],
   "source": [
    "##== This configuration uses the bounds originaly defined with Luis\n",
    "PARAMETER_RANGES"
   ]
  },
  {
   "cell_type": "code",
   "execution_count": null,
   "id": "25d543cc",
   "metadata": {},
   "outputs": [],
   "source": [
    "##== This configurations were from the first hyperbox optimization 13.06.2025\n",
    "PARAMETER_RANGES_hyper_box ={'Tfc':( 340.974 , 351.485266662598 ),'Pa_des':( 2e+05 , 256999.999999997 ),\n",
    "                             'Sa':( 1.1 , 3 ),'Phi_a_des':( 0.31 , 1 ),'epsilon_gdl':( 0.60624999775 , 0.701 ),\n",
    "                             'tau':( 1.02 , 2.689 ),'epsilon_mc':( 0.2325 , 0.4 ),'epsilon_c':( 0.245 , 0.286 ),\n",
    "                             'e':( 3 , 5 ),'Re':( 5.7e-07 , 4.2125e-06 ),'i0_c_ref':( 1.3955 , 2.79 ),\n",
    "                             'kappa_co':( 15.0585 , 37.821626953125 ),'kappa_c':( 0 , 1.88512650296844 ),\n",
    "                             'a_slim':( 0.056 , 0.900493421521382 ),'b_slim':( 0.0550000005 , 0.542000003 ),\n",
    "                             'a_switch':( 0.499999995 , 0.842 )}"
   ]
  },
  {
   "cell_type": "code",
   "execution_count": null,
   "id": "411a1fb4",
   "metadata": {},
   "outputs": [],
   "source": [
    "##==Those bounds flexibilize the hyperbox allowing up to 80% of probability for a suitable configuration - 15.06.2025\n",
    "hyperbox_80 = pd.read_csv(\"../data/raw//hyperbox_prim_150625.csv\", sep=';')\n",
    "hyperbox_dict_80 = dict(zip(hyperbox_80['parameter'], zip(hyperbox_80['lower'], hyperbox_80['upper'])))"
   ]
  },
  {
   "cell_type": "code",
   "execution_count": null,
   "id": "328cb5d4",
   "metadata": {},
   "outputs": [],
   "source": [
    "##== boundaries keeping operational conditions unrestricted. The undertermined conditions are restrictied by the hyperbox (hyperbox_prim_150625)\n",
    "PARAMETER_RANGES_hyperbox_PRIM_2 = PARAMETER_RANGES.copy()\n",
    "keys_to_filter = ['epsilon_gdl','tau', 'epsilon_mc', 'epsilon_c', 'e', 'Re', 'i0_c_ref', 'kappa_co', 'kappa_c', 'a_slim', 'b_slim', 'a_switch']\n",
    "restricted_undertermined_conditions = {k: hyperbox_dict_80[k] for k in keys_to_filter if k in hyperbox_dict_80}\n",
    "PARAMETER_RANGES_hyperbox_PRIM_2.update(restricted_undertermined_conditions)"
   ]
  },
  {
   "cell_type": "code",
   "execution_count": null,
   "id": "dbc83282",
   "metadata": {},
   "outputs": [],
   "source": [
    "##==Those bounds flexibilize the hyperbox allowing up to 80% of probability for a suitable configuration (second configuration) - 15.06.2025\n",
    "hyperbox_80_second = pd.read_csv(\"../data/raw//hyperbox_prim_150625_second_configuration.csv\", sep=';')\n",
    "hyperbox_80_second = dict(zip(hyperbox_80_second['parameter'], zip(hyperbox_80_second['lower'], hyperbox_80_second['upper'])))\n",
    "keys_to_delete = ['Sa', 'Phi_a_des']\n",
    "for key in keys_to_delete:\n",
    "    hyperbox_80_second.pop(key, None)"
   ]
  },
  {
   "cell_type": "code",
   "execution_count": 4,
   "id": "df7e6a4f",
   "metadata": {},
   "outputs": [],
   "source": [
    "def make_bounds_exclusive(bounds, epsilon=1e-8):\n",
    "    return [(low + epsilon, high - epsilon) for (low, high) in bounds]\n",
    "\n",
    "def prepare_problem(PARAMETER_, dependent_param=\"Pc_des\"):\n",
    "    independent_params = {\n",
    "        k: v for k, v in PARAMETER_.items()\n",
    "        if k != dependent_param\n",
    "    }\n",
    "    # Add dummy variable to later compute dependent_param\n",
    "    z_key = f\"{dependent_param}\"\n",
    "    independent_params[z_key] = (0, 1)\n",
    "\n",
    "    bounds = [v if isinstance(v, tuple) else [min(v), max(v)] for v in independent_params.values()]\n",
    "    bounds = make_bounds_exclusive(bounds)\n",
    "\n",
    "    problem = {\n",
    "        \"num_vars\": len(independent_params),\n",
    "        \"names\": list(independent_params.keys()),\n",
    "        \"bounds\": bounds,\n",
    "        \"groups\": list(independent_params.keys())  # optional but useful for group-based SA\n",
    "    }\n",
    "    return problem\n",
    "\n",
    "problem = prepare_problem(PARAMETER_=hyperbox_80_second,dependent_param = \"Pc_des\")\n"
   ]
  },
  {
   "cell_type": "markdown",
   "id": "f951e863",
   "metadata": {},
   "source": [
    "`problem` is a requiered object to run the sobol sequences sampling.We use the library SALib for the [Sobol sampling](https://salib.readthedocs.io/en/latest/api/SALib.sample.html#module-SALib.sample.sobol). From the documentation we have \"The Sobol’ sequence is a popular quasi-random low-discrepancy sequence used to generate uniform samples of parameter space.\""
   ]
  },
  {
   "cell_type": "code",
   "execution_count": null,
   "id": "2c72eec7",
   "metadata": {},
   "outputs": [],
   "source": [
    "seed = 33\n",
    "N=5\n",
    "np.random.seed(seed)\n",
    "random.seed(seed)\n",
    "samples = sobol.sample(problem, N=N, calc_second_order= False, scramble= True, seed=seed)\n",
    "pd.DataFrame(samples).to_pickle(\"../data/raw/sobol_sampling_configurations_hyper_box_undertermined_restricted.pkl\")"
   ]
  },
  {
   "cell_type": "code",
   "execution_count": 12,
   "id": "f2e64931",
   "metadata": {},
   "outputs": [
    {
     "data": {
      "text/plain": [
       "(95, 17)"
      ]
     },
     "execution_count": 12,
     "metadata": {},
     "output_type": "execute_result"
    }
   ],
   "source": [
    "samples.shape"
   ]
  },
  {
   "cell_type": "markdown",
   "id": "1fc49861",
   "metadata": {},
   "source": [
    "We define the values for `Pc_des`,`Sa` and `Phi_a_des`. According to our conversations with Luis they should have fixed values."
   ]
  },
  {
   "cell_type": "code",
   "execution_count": 27,
   "id": "7dd64626",
   "metadata": {},
   "outputs": [],
   "source": [
    "samples = pd.read_pickle('../data/raw/sobol_sampling_configurations_hyper_box_undertermined_restricted.pkl')\n",
    "samples.columns = problem['names']\n",
    "samples['Pc_des'] = samples['Pa_des']-20000\n",
    "samples['e'] = np.round(samples['e'])\n",
    "samples['Sa'] = 1.3\n",
    "samples['Phi_a_des'] = 0.5"
   ]
  },
  {
   "cell_type": "code",
   "execution_count": 28,
   "id": "74f20a42",
   "metadata": {},
   "outputs": [
    {
     "data": {
      "text/html": [
       "<div>\n",
       "<style scoped>\n",
       "    .dataframe tbody tr th:only-of-type {\n",
       "        vertical-align: middle;\n",
       "    }\n",
       "\n",
       "    .dataframe tbody tr th {\n",
       "        vertical-align: top;\n",
       "    }\n",
       "\n",
       "    .dataframe thead th {\n",
       "        text-align: right;\n",
       "    }\n",
       "</style>\n",
       "<table border=\"1\" class=\"dataframe\">\n",
       "  <thead>\n",
       "    <tr style=\"text-align: right;\">\n",
       "      <th></th>\n",
       "      <th>Tfc</th>\n",
       "      <th>Pa_des</th>\n",
       "      <th>Sc</th>\n",
       "      <th>Phi_c_des</th>\n",
       "      <th>epsilon_gdl</th>\n",
       "      <th>tau</th>\n",
       "      <th>epsilon_mc</th>\n",
       "      <th>epsilon_c</th>\n",
       "      <th>e</th>\n",
       "      <th>Re</th>\n",
       "      <th>i0_c_ref</th>\n",
       "      <th>kappa_co</th>\n",
       "      <th>kappa_c</th>\n",
       "      <th>a_slim</th>\n",
       "      <th>b_slim</th>\n",
       "      <th>a_switch</th>\n",
       "      <th>Pc_des</th>\n",
       "      <th>Sa</th>\n",
       "      <th>Phi_a_des</th>\n",
       "    </tr>\n",
       "  </thead>\n",
       "  <tbody>\n",
       "    <tr>\n",
       "      <th>0</th>\n",
       "      <td>338.012705</td>\n",
       "      <td>222706.888248</td>\n",
       "      <td>2.70438</td>\n",
       "      <td>0.596459</td>\n",
       "      <td>0.682645</td>\n",
       "      <td>1.108024</td>\n",
       "      <td>0.300078</td>\n",
       "      <td>0.249759</td>\n",
       "      <td>4.0</td>\n",
       "      <td>0.000002</td>\n",
       "      <td>61.268747</td>\n",
       "      <td>24.459121</td>\n",
       "      <td>1.585349</td>\n",
       "      <td>0.053492</td>\n",
       "      <td>0.915491</td>\n",
       "      <td>0.767234</td>\n",
       "      <td>202706.888248</td>\n",
       "      <td>1.3</td>\n",
       "      <td>0.5</td>\n",
       "    </tr>\n",
       "    <tr>\n",
       "      <th>1</th>\n",
       "      <td>338.590419</td>\n",
       "      <td>222706.888248</td>\n",
       "      <td>2.70438</td>\n",
       "      <td>0.596459</td>\n",
       "      <td>0.682645</td>\n",
       "      <td>1.108024</td>\n",
       "      <td>0.300078</td>\n",
       "      <td>0.249759</td>\n",
       "      <td>4.0</td>\n",
       "      <td>0.000002</td>\n",
       "      <td>61.268747</td>\n",
       "      <td>24.459121</td>\n",
       "      <td>1.585349</td>\n",
       "      <td>0.053492</td>\n",
       "      <td>0.915491</td>\n",
       "      <td>0.767234</td>\n",
       "      <td>202706.888248</td>\n",
       "      <td>1.3</td>\n",
       "      <td>0.5</td>\n",
       "    </tr>\n",
       "    <tr>\n",
       "      <th>2</th>\n",
       "      <td>338.012705</td>\n",
       "      <td>176645.241238</td>\n",
       "      <td>2.70438</td>\n",
       "      <td>0.596459</td>\n",
       "      <td>0.682645</td>\n",
       "      <td>1.108024</td>\n",
       "      <td>0.300078</td>\n",
       "      <td>0.249759</td>\n",
       "      <td>4.0</td>\n",
       "      <td>0.000002</td>\n",
       "      <td>61.268747</td>\n",
       "      <td>24.459121</td>\n",
       "      <td>1.585349</td>\n",
       "      <td>0.053492</td>\n",
       "      <td>0.915491</td>\n",
       "      <td>0.767234</td>\n",
       "      <td>156645.241238</td>\n",
       "      <td>1.3</td>\n",
       "      <td>0.5</td>\n",
       "    </tr>\n",
       "    <tr>\n",
       "      <th>3</th>\n",
       "      <td>338.012705</td>\n",
       "      <td>222706.888248</td>\n",
       "      <td>2.75499</td>\n",
       "      <td>0.596459</td>\n",
       "      <td>0.682645</td>\n",
       "      <td>1.108024</td>\n",
       "      <td>0.300078</td>\n",
       "      <td>0.249759</td>\n",
       "      <td>4.0</td>\n",
       "      <td>0.000002</td>\n",
       "      <td>61.268747</td>\n",
       "      <td>24.459121</td>\n",
       "      <td>1.585349</td>\n",
       "      <td>0.053492</td>\n",
       "      <td>0.915491</td>\n",
       "      <td>0.767234</td>\n",
       "      <td>202706.888248</td>\n",
       "      <td>1.3</td>\n",
       "      <td>0.5</td>\n",
       "    </tr>\n",
       "    <tr>\n",
       "      <th>4</th>\n",
       "      <td>338.012705</td>\n",
       "      <td>222706.888248</td>\n",
       "      <td>2.70438</td>\n",
       "      <td>0.414280</td>\n",
       "      <td>0.682645</td>\n",
       "      <td>1.108024</td>\n",
       "      <td>0.300078</td>\n",
       "      <td>0.249759</td>\n",
       "      <td>4.0</td>\n",
       "      <td>0.000002</td>\n",
       "      <td>61.268747</td>\n",
       "      <td>24.459121</td>\n",
       "      <td>1.585349</td>\n",
       "      <td>0.053492</td>\n",
       "      <td>0.915491</td>\n",
       "      <td>0.767234</td>\n",
       "      <td>202706.888248</td>\n",
       "      <td>1.3</td>\n",
       "      <td>0.5</td>\n",
       "    </tr>\n",
       "  </tbody>\n",
       "</table>\n",
       "</div>"
      ],
      "text/plain": [
       "          Tfc         Pa_des       Sc  Phi_c_des  epsilon_gdl       tau   \n",
       "0  338.012705  222706.888248  2.70438   0.596459     0.682645  1.108024  \\\n",
       "1  338.590419  222706.888248  2.70438   0.596459     0.682645  1.108024   \n",
       "2  338.012705  176645.241238  2.70438   0.596459     0.682645  1.108024   \n",
       "3  338.012705  222706.888248  2.75499   0.596459     0.682645  1.108024   \n",
       "4  338.012705  222706.888248  2.70438   0.414280     0.682645  1.108024   \n",
       "\n",
       "   epsilon_mc  epsilon_c    e        Re   i0_c_ref   kappa_co   kappa_c   \n",
       "0    0.300078   0.249759  4.0  0.000002  61.268747  24.459121  1.585349  \\\n",
       "1    0.300078   0.249759  4.0  0.000002  61.268747  24.459121  1.585349   \n",
       "2    0.300078   0.249759  4.0  0.000002  61.268747  24.459121  1.585349   \n",
       "3    0.300078   0.249759  4.0  0.000002  61.268747  24.459121  1.585349   \n",
       "4    0.300078   0.249759  4.0  0.000002  61.268747  24.459121  1.585349   \n",
       "\n",
       "     a_slim    b_slim  a_switch         Pc_des   Sa  Phi_a_des  \n",
       "0  0.053492  0.915491  0.767234  202706.888248  1.3        0.5  \n",
       "1  0.053492  0.915491  0.767234  202706.888248  1.3        0.5  \n",
       "2  0.053492  0.915491  0.767234  156645.241238  1.3        0.5  \n",
       "3  0.053492  0.915491  0.767234  202706.888248  1.3        0.5  \n",
       "4  0.053492  0.915491  0.767234  202706.888248  1.3        0.5  "
      ]
     },
     "execution_count": 28,
     "metadata": {},
     "output_type": "execute_result"
    }
   ],
   "source": [
    "samples.head()"
   ]
  },
  {
   "cell_type": "code",
   "execution_count": 30,
   "id": "cbfb61cf",
   "metadata": {},
   "outputs": [],
   "source": [
    "pd.DataFrame(samples).to_pickle(\"../data/raw/sobol_sampling_configurations_hyper_box_undertermined_restricted.pkl\")"
   ]
  },
  {
   "cell_type": "markdown",
   "id": "10cefdcb",
   "metadata": {},
   "source": [
    "## We read the saved configurations and start the simulations"
   ]
  },
  {
   "cell_type": "code",
   "execution_count": null,
   "id": "8656e12a",
   "metadata": {},
   "outputs": [],
   "source": [
    "samples = pd.read_pickle('../data/raw/sobol_sampling_configurations_hyper_box_undertermined_restricted.pkl')\n",
    "samples.shape"
   ]
  },
  {
   "cell_type": "markdown",
   "id": "f4e26f32",
   "metadata": {},
   "source": [
    "We split the original set of samples (it's not always necessary)"
   ]
  },
  {
   "cell_type": "code",
   "execution_count": null,
   "id": "e09c45cd",
   "metadata": {},
   "outputs": [],
   "source": [
    "split_dejvis, split_nathaly, split_camila = np.array_split(samples, 3)\n",
    "print(f'shape1 {split_dejvis.shape}, shape2 {split_nathaly.shape} and shape3 {split_camila.shape}')"
   ]
  },
  {
   "cell_type": "code",
   "execution_count": null,
   "id": "53bb730d",
   "metadata": {},
   "outputs": [
    {
     "name": "stdout",
     "output_type": "stream",
     "text": [
      "✅ Saved 10 samples to ../data/raw/sobol_sampling_configurations_hyper_box_undertermined_restricted_results.pkl\n",
      "✅ Saved 20 samples to ../data/raw/sobol_sampling_configurations_hyper_box_undertermined_restricted_results.pkl\n",
      "✅ Saved 30 samples to ../data/raw/sobol_sampling_configurations_hyper_box_undertermined_restricted_results.pkl\n"
     ]
    }
   ],
   "source": [
    "save_filepath = \"../data/raw/sobol_sampling_configurations_hyper_box_undertermined_restricted_results.pkl\"\n",
    "results = get_polarisation_curve_samples(sampled_parameters=split_nathaly.to_dict(orient='records'), fixed_parameters = build_fixed_parameters(), save_path=save_filepath, save_every=10)#\n"
   ]
  },
  {
   "cell_type": "code",
   "execution_count": null,
   "id": "7ccad7c8",
   "metadata": {},
   "outputs": [],
   "source": []
  }
 ],
 "metadata": {
  "kernelspec": {
   "display_name": "Python 3",
   "language": "python",
   "name": "python3"
  },
  "language_info": {
   "codemirror_mode": {
    "name": "ipython",
    "version": 3
   },
   "file_extension": ".py",
   "mimetype": "text/x-python",
   "name": "python",
   "nbconvert_exporter": "python",
   "pygments_lexer": "ipython3",
   "version": "3.11.3"
  }
 },
 "nbformat": 4,
 "nbformat_minor": 5
}
