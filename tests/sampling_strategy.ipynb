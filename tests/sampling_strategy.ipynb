{
 "cells": [
  {
   "cell_type": "code",
   "execution_count": 1,
   "id": "455d6ba1",
   "metadata": {},
   "outputs": [],
   "source": [
    "import sys\n",
    "import os \n",
    "import numpy as np\n",
    "import pandas as pd\n",
    "from scipy.stats.qmc import Sobol\n",
    "from SALib.util import scale_samples\n",
    "from SALib.sample import sobol\n",
    "from SALib.analyze import sobol as sobol_analyze\n",
    "import random\n",
    "\n",
    "sys.path.append(os.path.abspath(os.path.join(os.getcwd(), '..')))\n",
    "from src.sampling.sampler import get_polarisation_curve_samples, build_fixed_parameters, sample_parameters, PARAMETER_RANGES\n",
    "from configuration.settings import current_density_parameters, physical_parameters, computing_parameters, operating_inputs\n",
    "from modules.display_modules import plot_lambda\n",
    "from model.AlphaPEM import AlphaPEM\n"
   ]
  },
  {
   "cell_type": "code",
   "execution_count": 87,
   "id": "25d543cc",
   "metadata": {},
   "outputs": [],
   "source": [
    "PARAMETER_RANGES_hyper_box ={'Tfc':( 340.974 , 351.485266662598 ),'Pa_des':( 2e+05 , 256999.999999997 ),\n",
    "                             'Sa':( 1.1 , 3 ),'Phi_a_des':( 0.31 , 1 ),'epsilon_gdl':( 0.60624999775 , 0.701 ),\n",
    "                             'tau':( 1.02 , 2.689 ),'epsilon_mc':( 0.2325 , 0.4 ),'epsilon_c':( 0.245 , 0.286 ),\n",
    "                             'e':( 3 , 5 ),'Re':( 5.7e-07 , 4.2125e-06 ),'i0_c_ref':( 1.3955 , 2.79 ),\n",
    "                             'kappa_co':( 15.0585 , 37.821626953125 ),'kappa_c':( 0 , 1.88512650296844 ),\n",
    "                             'a_slim':( 0.056 , 0.900493421521382 ),'b_slim':( 0.0550000005 , 0.542000003 ),\n",
    "                             'a_switch':( 0.499999995 , 0.842 )}"
   ]
  },
  {
   "cell_type": "code",
   "execution_count": 138,
   "id": "411a1fb4",
   "metadata": {},
   "outputs": [],
   "source": [
    "hyperbox_80 = pd.read_csv(\"D:/Users/kju10/Documents/LMU-STATISTICS & DATA SCIENCE MASTER/WS2425/Consulting/hyperbox_prim_150625.csv\", sep=';')\n",
    "hyperbox_dict_80 = dict(zip(hyperbox_80['parameter'], zip(hyperbox_80['lower'], hyperbox_80['upper'])))\n",
    "#{row_i[0]: (row_i[1], row_i[2]) for row_i in hyperbox_80.values.tolist()}"
   ]
  },
  {
   "cell_type": "code",
   "execution_count": null,
   "id": "328cb5d4",
   "metadata": {},
   "outputs": [],
   "source": [
    "PARAMETER_RANGES_hyperbox_PRIM_2 = PARAMETER_RANGES\n",
    "#PARAMETER_RANGES_hyperbox_PRIM_2.update(hyperbox_dict_80)\n",
    "keys_to_remove = [ 'Sc','epsilon_gdl','tau', 'epsilon_mc', 'epsilon_c', 'e', 'Re', 'i0_c_ref', 'kappa_co', 'kappa_c', 'a_slim', 'b_slim', 'a_switch']\n",
    "for key in keys_to_remove:\n",
    "    PARAMETER_RANGES_hyperbox_PRIM_2.pop(key, None)  # Safe removal\n",
    "PARAMETER_RANGES_hyperbox_PRIM_2['Sa']= (1.1, 3.0)\n",
    "PARAMETER_RANGES_hyperbox_PRIM_2['Phi_a_des'] = (0.1, 1.0)\n"
   ]
  },
  {
   "cell_type": "code",
   "execution_count": null,
   "id": "9bdccc44",
   "metadata": {},
   "outputs": [
    {
     "data": {
      "text/plain": [
       "{'epsilon_gdl': (0.55, 0.8),\n",
       " 'tau': (1.0, 4.0),\n",
       " 'epsilon_mc': (0.15, 0.4),\n",
       " 'epsilon_c': (0.15, 0.3),\n",
       " 'e': [3, 4, 5],\n",
       " 'Re': (5e-07, 5e-06),\n",
       " 'i0_c_ref': (0.001, 500),\n",
       " 'kappa_co': (0.01, 40),\n",
       " 'kappa_c': (0, 100),\n",
       " 'a_slim': (0, 1),\n",
       " 'b_slim': (0, 1),\n",
       " 'a_switch': (0, 1)}"
      ]
     },
     "execution_count": 22,
     "metadata": {},
     "output_type": "execute_result"
    }
   ],
   "source": [
    "PARAMETER_RANGES"
   ]
  },
  {
   "cell_type": "code",
   "execution_count": 139,
   "id": "e9ce27cf",
   "metadata": {},
   "outputs": [],
   "source": [
    "PARAMETER_RANGES['kappa_c']= [0.0, 1]"
   ]
  },
  {
   "cell_type": "code",
   "execution_count": 10,
   "id": "df7e6a4f",
   "metadata": {},
   "outputs": [],
   "source": [
    "def make_bounds_exclusive(bounds, epsilon=1e-8):\n",
    "    return [(low + epsilon, high - epsilon) for (low, high) in bounds]\n",
    "\n",
    "def prepare_problem(PARAMETER_, dependent_param=\"Pc_des\"):\n",
    "    independent_params = {\n",
    "        k: v for k, v in PARAMETER_.items()\n",
    "        if k != dependent_param\n",
    "    }\n",
    "    # Add dummy variable to later compute dependent_param\n",
    "    z_key = f\"{dependent_param}\"\n",
    "    independent_params[z_key] = (0, 1)\n",
    "\n",
    "    bounds = [v if isinstance(v, tuple) else [min(v), max(v)] for v in independent_params.values()]\n",
    "    bounds = make_bounds_exclusive(bounds)\n",
    "\n",
    "    problem = {\n",
    "        \"num_vars\": len(independent_params),\n",
    "        \"names\": list(independent_params.keys()),\n",
    "        \"bounds\": bounds,\n",
    "        \"groups\": list(independent_params.keys())  # optional but useful for group-based SA\n",
    "    }\n",
    "    return problem\n",
    "\n",
    "problem = prepare_problem(PARAMETER_=PARAMETER_RANGES_hyperbox_PRIM_2,dependent_param = \"Pc_des\")\n"
   ]
  },
  {
   "cell_type": "code",
   "execution_count": 11,
   "id": "c2c8700c",
   "metadata": {},
   "outputs": [
    {
     "data": {
      "text/plain": [
       "[(333.00000001, 362.99999999),\n",
       " (130000.00000001, 299999.99999999),\n",
       " (1.10000001, 2.99999999),\n",
       " (0.10000001, 0.6999999899999999),\n",
       " (1.10000001, 2.99999999),\n",
       " (0.10000001, 0.99999999),\n",
       " (1e-08, 0.99999999)]"
      ]
     },
     "execution_count": 11,
     "metadata": {},
     "output_type": "execute_result"
    }
   ],
   "source": [
    "problem['bounds']"
   ]
  },
  {
   "cell_type": "code",
   "execution_count": 29,
   "id": "2c72eec7",
   "metadata": {},
   "outputs": [
    {
     "name": "stderr",
     "output_type": "stream",
     "text": [
      "d:\\Users\\kju10\\Documents\\LMU-STATISTICS & DATA SCIENCE MASTER\\WS2425\\Consulting\\project\\Sensitivity-Analysis-and-Surrogate-Modeling-of-PEM-Fuel-Cells\\env\\Lib\\site-packages\\scipy\\stats\\_qmc.py:958: UserWarning: The balance properties of Sobol' points require n to be a power of 2.\n",
      "  sample = self._random(n, workers=workers)\n"
     ]
    }
   ],
   "source": [
    "seed = 33\n",
    "N=50\n",
    "np.random.seed(seed)\n",
    "random.seed(seed)\n",
    "samples = sobol.sample(problem, N=N, calc_second_order= False, scramble= True, seed=seed)\n",
    "pd.DataFrame(samples).to_pickle(\"../data/raw/sobol_sampling_configurations_hyper_box_undertermined_fixed.pkl\")"
   ]
  },
  {
   "cell_type": "code",
   "execution_count": 30,
   "id": "f2e64931",
   "metadata": {},
   "outputs": [
    {
     "data": {
      "text/plain": [
       "(450, 7)"
      ]
     },
     "execution_count": 30,
     "metadata": {},
     "output_type": "execute_result"
    }
   ],
   "source": [
    "samples.shape"
   ]
  },
  {
   "cell_type": "code",
   "execution_count": 31,
   "id": "7dd64626",
   "metadata": {},
   "outputs": [],
   "source": [
    "samples = pd.read_pickle('../data/raw/sobol_sampling_configurations_hyper_box_undertermined_fixed.pkl')\n",
    "samples.columns = problem['names']\n",
    "samples['Pc_des'] = samples['Pa_des']-20000\n",
    "#samples['e'] = np.round(samples['e'])\n",
    "samples['Sa'] = 1.3\n",
    "samples['Phi_a_des'] = 0.5"
   ]
  },
  {
   "cell_type": "code",
   "execution_count": 32,
   "id": "ce00e84f",
   "metadata": {},
   "outputs": [],
   "source": [
    "curve_default_values = {'epsilon_gdl': 0.701,\n",
    " 'tau': 1.02,\n",
    " 'epsilon_mc': 0.399,\n",
    " 'epsilon_c': 0.271,\n",
    " 'e': 5,\n",
    " 'Re': 5.7e-7,\n",
    " 'i0_c_ref': 2.79,\n",
    " 'kappa_co': 27.2,\n",
    " 'kappa_c': 1.61,\n",
    " 'a_slim': 0.056,\n",
    " 'b_slim': 0.105,\n",
    " 'a_switch': 0.637}\n",
    "\n",
    "\n",
    "for key, value in curve_default_values.items():\n",
    "    samples[key] = value"
   ]
  },
  {
   "cell_type": "code",
   "execution_count": 26,
   "id": "74f20a42",
   "metadata": {},
   "outputs": [
    {
     "data": {
      "text/html": [
       "<div>\n",
       "<style scoped>\n",
       "    .dataframe tbody tr th:only-of-type {\n",
       "        vertical-align: middle;\n",
       "    }\n",
       "\n",
       "    .dataframe tbody tr th {\n",
       "        vertical-align: top;\n",
       "    }\n",
       "\n",
       "    .dataframe thead th {\n",
       "        text-align: right;\n",
       "    }\n",
       "</style>\n",
       "<table border=\"1\" class=\"dataframe\">\n",
       "  <thead>\n",
       "    <tr style=\"text-align: right;\">\n",
       "      <th></th>\n",
       "      <th>Tfc</th>\n",
       "      <th>Pa_des</th>\n",
       "      <th>Sc</th>\n",
       "      <th>Phi_c_des</th>\n",
       "      <th>Sa</th>\n",
       "      <th>Phi_a_des</th>\n",
       "      <th>Pc_des</th>\n",
       "      <th>epsilon_gdl</th>\n",
       "      <th>tau</th>\n",
       "      <th>epsilon_mc</th>\n",
       "      <th>epsilon_c</th>\n",
       "      <th>e</th>\n",
       "      <th>Re</th>\n",
       "      <th>i0_c_ref</th>\n",
       "      <th>kappa_co</th>\n",
       "      <th>kappa_c</th>\n",
       "      <th>a_slim</th>\n",
       "      <th>b_slim</th>\n",
       "      <th>a_switch</th>\n",
       "    </tr>\n",
       "  </thead>\n",
       "  <tbody>\n",
       "    <tr>\n",
       "      <th>0</th>\n",
       "      <td>335.015900</td>\n",
       "      <td>215267.894967</td>\n",
       "      <td>2.784156</td>\n",
       "      <td>0.607013</td>\n",
       "      <td>1.3</td>\n",
       "      <td>0.5</td>\n",
       "      <td>195267.894967</td>\n",
       "      <td>0.701</td>\n",
       "      <td>1.02</td>\n",
       "      <td>0.399</td>\n",
       "      <td>0.271</td>\n",
       "      <td>5</td>\n",
       "      <td>5.700000e-07</td>\n",
       "      <td>2.79</td>\n",
       "      <td>27.2</td>\n",
       "      <td>1.61</td>\n",
       "      <td>0.056</td>\n",
       "      <td>0.105</td>\n",
       "      <td>0.637</td>\n",
       "    </tr>\n",
       "    <tr>\n",
       "      <th>1</th>\n",
       "      <td>350.439856</td>\n",
       "      <td>215267.894967</td>\n",
       "      <td>2.784156</td>\n",
       "      <td>0.607013</td>\n",
       "      <td>1.3</td>\n",
       "      <td>0.5</td>\n",
       "      <td>195267.894967</td>\n",
       "      <td>0.701</td>\n",
       "      <td>1.02</td>\n",
       "      <td>0.399</td>\n",
       "      <td>0.271</td>\n",
       "      <td>5</td>\n",
       "      <td>5.700000e-07</td>\n",
       "      <td>2.79</td>\n",
       "      <td>27.2</td>\n",
       "      <td>1.61</td>\n",
       "      <td>0.056</td>\n",
       "      <td>0.105</td>\n",
       "      <td>0.637</td>\n",
       "    </tr>\n",
       "    <tr>\n",
       "      <th>2</th>\n",
       "      <td>335.015900</td>\n",
       "      <td>240348.660676</td>\n",
       "      <td>2.784156</td>\n",
       "      <td>0.607013</td>\n",
       "      <td>1.3</td>\n",
       "      <td>0.5</td>\n",
       "      <td>220348.660676</td>\n",
       "      <td>0.701</td>\n",
       "      <td>1.02</td>\n",
       "      <td>0.399</td>\n",
       "      <td>0.271</td>\n",
       "      <td>5</td>\n",
       "      <td>5.700000e-07</td>\n",
       "      <td>2.79</td>\n",
       "      <td>27.2</td>\n",
       "      <td>1.61</td>\n",
       "      <td>0.056</td>\n",
       "      <td>0.105</td>\n",
       "      <td>0.637</td>\n",
       "    </tr>\n",
       "    <tr>\n",
       "      <th>3</th>\n",
       "      <td>335.015900</td>\n",
       "      <td>215267.894967</td>\n",
       "      <td>1.626552</td>\n",
       "      <td>0.607013</td>\n",
       "      <td>1.3</td>\n",
       "      <td>0.5</td>\n",
       "      <td>195267.894967</td>\n",
       "      <td>0.701</td>\n",
       "      <td>1.02</td>\n",
       "      <td>0.399</td>\n",
       "      <td>0.271</td>\n",
       "      <td>5</td>\n",
       "      <td>5.700000e-07</td>\n",
       "      <td>2.79</td>\n",
       "      <td>27.2</td>\n",
       "      <td>1.61</td>\n",
       "      <td>0.056</td>\n",
       "      <td>0.105</td>\n",
       "      <td>0.637</td>\n",
       "    </tr>\n",
       "    <tr>\n",
       "      <th>4</th>\n",
       "      <td>335.015900</td>\n",
       "      <td>215267.894967</td>\n",
       "      <td>2.784156</td>\n",
       "      <td>0.639239</td>\n",
       "      <td>1.3</td>\n",
       "      <td>0.5</td>\n",
       "      <td>195267.894967</td>\n",
       "      <td>0.701</td>\n",
       "      <td>1.02</td>\n",
       "      <td>0.399</td>\n",
       "      <td>0.271</td>\n",
       "      <td>5</td>\n",
       "      <td>5.700000e-07</td>\n",
       "      <td>2.79</td>\n",
       "      <td>27.2</td>\n",
       "      <td>1.61</td>\n",
       "      <td>0.056</td>\n",
       "      <td>0.105</td>\n",
       "      <td>0.637</td>\n",
       "    </tr>\n",
       "  </tbody>\n",
       "</table>\n",
       "</div>"
      ],
      "text/plain": [
       "          Tfc         Pa_des        Sc  Phi_c_des   Sa  Phi_a_des  \\\n",
       "0  335.015900  215267.894967  2.784156   0.607013  1.3        0.5   \n",
       "1  350.439856  215267.894967  2.784156   0.607013  1.3        0.5   \n",
       "2  335.015900  240348.660676  2.784156   0.607013  1.3        0.5   \n",
       "3  335.015900  215267.894967  1.626552   0.607013  1.3        0.5   \n",
       "4  335.015900  215267.894967  2.784156   0.639239  1.3        0.5   \n",
       "\n",
       "          Pc_des  epsilon_gdl   tau  epsilon_mc  epsilon_c  e            Re  \\\n",
       "0  195267.894967        0.701  1.02       0.399      0.271  5  5.700000e-07   \n",
       "1  195267.894967        0.701  1.02       0.399      0.271  5  5.700000e-07   \n",
       "2  220348.660676        0.701  1.02       0.399      0.271  5  5.700000e-07   \n",
       "3  195267.894967        0.701  1.02       0.399      0.271  5  5.700000e-07   \n",
       "4  195267.894967        0.701  1.02       0.399      0.271  5  5.700000e-07   \n",
       "\n",
       "   i0_c_ref  kappa_co  kappa_c  a_slim  b_slim  a_switch  \n",
       "0      2.79      27.2     1.61   0.056   0.105     0.637  \n",
       "1      2.79      27.2     1.61   0.056   0.105     0.637  \n",
       "2      2.79      27.2     1.61   0.056   0.105     0.637  \n",
       "3      2.79      27.2     1.61   0.056   0.105     0.637  \n",
       "4      2.79      27.2     1.61   0.056   0.105     0.637  "
      ]
     },
     "execution_count": 26,
     "metadata": {},
     "output_type": "execute_result"
    }
   ],
   "source": [
    "samples.head()"
   ]
  },
  {
   "cell_type": "code",
   "execution_count": 33,
   "id": "cbfb61cf",
   "metadata": {},
   "outputs": [],
   "source": [
    "pd.DataFrame(samples).to_pickle(\"../data/raw/sobol_sampling_configurations_hyper_box_undertermined_fixed.pkl\")"
   ]
  },
  {
   "cell_type": "markdown",
   "id": "10cefdcb",
   "metadata": {},
   "source": [
    "## We read the saved configurations and star the simulations"
   ]
  },
  {
   "cell_type": "code",
   "execution_count": 34,
   "id": "8656e12a",
   "metadata": {},
   "outputs": [],
   "source": [
    "samples = pd.read_pickle('../data/raw/sobol_sampling_configurations_hyper_box_undertermined_fixed.pkl')"
   ]
  },
  {
   "cell_type": "code",
   "execution_count": 35,
   "id": "e09c45cd",
   "metadata": {},
   "outputs": [
    {
     "name": "stderr",
     "output_type": "stream",
     "text": [
      "d:\\Users\\kju10\\Documents\\LMU-STATISTICS & DATA SCIENCE MASTER\\WS2425\\Consulting\\project\\Sensitivity-Analysis-and-Surrogate-Modeling-of-PEM-Fuel-Cells\\env\\Lib\\site-packages\\numpy\\_core\\fromnumeric.py:57: FutureWarning: 'DataFrame.swapaxes' is deprecated and will be removed in a future version. Please use 'DataFrame.transpose' instead.\n",
      "  return bound(*args, **kwds)\n"
     ]
    }
   ],
   "source": [
    "split_dejvis, split_nathaly, split_camila = np.array_split(samples, 3)"
   ]
  },
  {
   "cell_type": "code",
   "execution_count": 36,
   "id": "a6998bf9",
   "metadata": {},
   "outputs": [
    {
     "data": {
      "text/plain": [
       "(450, 19)"
      ]
     },
     "execution_count": 36,
     "metadata": {},
     "output_type": "execute_result"
    }
   ],
   "source": [
    "samples.shape"
   ]
  },
  {
   "cell_type": "code",
   "execution_count": 37,
   "id": "daa58c42",
   "metadata": {},
   "outputs": [
    {
     "name": "stdout",
     "output_type": "stream",
     "text": [
      "shape1 (150, 19), shape2 (150, 19) and shape3 (150, 19)\n"
     ]
    }
   ],
   "source": [
    "print(f'shape1 {split_dejvis.shape}, shape2 {split_nathaly.shape} and shape3 {split_camila.shape}')\n"
   ]
  },
  {
   "cell_type": "code",
   "execution_count": null,
   "id": "53bb730d",
   "metadata": {},
   "outputs": [
    {
     "name": "stdout",
     "output_type": "stream",
     "text": [
      "✅ Saved 10 samples to ../data/raw/sobol_sampling_split_hyperbox80_2.pkl\n",
      "✅ Saved 20 samples to ../data/raw/sobol_sampling_split_hyperbox80_2.pkl\n",
      "✅ Saved 30 samples to ../data/raw/sobol_sampling_split_hyperbox80_2.pkl\n",
      "✅ Saved 40 samples to ../data/raw/sobol_sampling_split_hyperbox80_2.pkl\n",
      "\n",
      "📁 Final save complete: ../data/raw/sobol_sampling_split_hyperbox80_2.pkl with 44 valid samples.\n"
     ]
    }
   ],
   "source": [
    "save_filepath = \"../data/raw/sobol_sampling_split_hyperbox80_PRIM.pkl\"\n",
    "results = get_polarisation_curve_samples(sampled_parameters=samples.iloc[61:,:].to_dict(orient='records'), fixed_parameters = build_fixed_parameters(), save_path=save_filepath, save_every=10)#\n"
   ]
  },
  {
   "cell_type": "code",
   "execution_count": null,
   "id": "7ccad7c8",
   "metadata": {},
   "outputs": [],
   "source": []
  }
 ],
 "metadata": {
  "kernelspec": {
   "display_name": "env",
   "language": "python",
   "name": "python3"
  },
  "language_info": {
   "codemirror_mode": {
    "name": "ipython",
    "version": 3
   },
   "file_extension": ".py",
   "mimetype": "text/x-python",
   "name": "python",
   "nbconvert_exporter": "python",
   "pygments_lexer": "ipython3",
   "version": "3.11.3"
  }
 },
 "nbformat": 4,
 "nbformat_minor": 5
}
