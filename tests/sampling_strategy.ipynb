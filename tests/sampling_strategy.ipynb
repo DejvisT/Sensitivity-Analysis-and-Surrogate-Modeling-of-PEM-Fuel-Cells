{
 "cells": [
  {
   "cell_type": "code",
   "execution_count": 29,
   "id": "455d6ba1",
   "metadata": {},
   "outputs": [],
   "source": [
    "import sys\n",
    "import os \n",
    "import numpy as np\n",
    "import pandas as pd\n",
    "from scipy.stats.qmc import Sobol\n",
    "from SALib.util import scale_samples\n",
    "from SALib.sample import sobol\n",
    "from SALib.analyze import sobol as sobol_analyze\n",
    "import random\n",
    "\n",
    "sys.path.append(os.path.abspath(os.path.join(os.getcwd(), '..')))\n",
    "from src.sampling.sampler import get_polarisation_curve_samples, build_fixed_parameters, sample_parameters, PARAMETER_RANGES\n",
    "from configuration.settings import current_density_parameters, physical_parameters, computing_parameters, operating_inputs\n",
    "from modules.display_modules import plot_lambda\n",
    "from model.AlphaPEM import AlphaPEM\n"
   ]
  },
  {
   "cell_type": "code",
   "execution_count": 30,
   "id": "e9ce27cf",
   "metadata": {},
   "outputs": [],
   "source": [
    "#del PARAMETER_RANGES['Pc_des']"
   ]
  },
  {
   "cell_type": "code",
   "execution_count": 31,
   "id": "df7e6a4f",
   "metadata": {},
   "outputs": [],
   "source": [
    "def make_bounds_exclusive(bounds, epsilon=1e-8):\n",
    "    return [(low + epsilon, high - epsilon) for (low, high) in bounds]\n",
    "\n",
    "def prepare_problem(PARAMETER_, dependent_param=\"Pc_des\"):\n",
    "    independent_params = {\n",
    "        k: v for k, v in PARAMETER_.items()\n",
    "        if k != dependent_param\n",
    "    }\n",
    "    # Add dummy variable to later compute dependent_param\n",
    "    z_key = f\"{dependent_param}\"\n",
    "    independent_params[z_key] = (0, 1)\n",
    "\n",
    "    bounds = [v if isinstance(v, tuple) else [min(v), max(v)] for v in independent_params.values()]\n",
    "    bounds = make_bounds_exclusive(bounds)\n",
    "\n",
    "    problem = {\n",
    "        \"num_vars\": len(independent_params),\n",
    "        \"names\": list(independent_params.keys()),\n",
    "        \"bounds\": bounds,\n",
    "        \"groups\": list(independent_params.keys())  # optional but useful for group-based SA\n",
    "    }\n",
    "    return problem\n",
    "\n",
    "problem = prepare_problem(PARAMETER_=PARAMETER_RANGES,dependent_param = \"Pc_des\")\n"
   ]
  },
  {
   "cell_type": "code",
   "execution_count": 32,
   "id": "2c72eec7",
   "metadata": {},
   "outputs": [
    {
     "name": "stderr",
     "output_type": "stream",
     "text": [
      "d:\\Users\\kju10\\Documents\\LMU-STATISTICS & DATA SCIENCE MASTER\\WS2425\\Consulting\\project\\Sensitivity-Analysis-and-Surrogate-Modeling-of-PEM-Fuel-Cells\\env\\Lib\\site-packages\\scipy\\stats\\_qmc.py:958: UserWarning: The balance properties of Sobol' points require n to be a power of 2.\n",
      "  sample = self._random(n, workers=workers)\n"
     ]
    }
   ],
   "source": [
    "seed = 33\n",
    "N=2000\n",
    "np.random.seed(seed)\n",
    "random.seed(seed)\n",
    "samples = sobol.sample(problem, N=N, calc_second_order= False, scramble= True, seed=seed)\n",
    "pd.DataFrame(samples).to_pickle(\"../data/raw/sobol_sampling_configurations.pkl\")"
   ]
  },
  {
   "cell_type": "code",
   "execution_count": 33,
   "id": "7dd64626",
   "metadata": {},
   "outputs": [],
   "source": [
    "samples = pd.read_pickle('../data/raw/sobol_sampling_configurations.pkl')\n",
    "samples.columns = problem['names']\n",
    "samples['Pc_des'] = samples['Pa_des']-20000\n",
    "samples['e'] = np.round(samples['e'])"
   ]
  },
  {
   "cell_type": "code",
   "execution_count": 34,
   "id": "74f20a42",
   "metadata": {},
   "outputs": [
    {
     "data": {
      "text/html": [
       "<div>\n",
       "<style scoped>\n",
       "    .dataframe tbody tr th:only-of-type {\n",
       "        vertical-align: middle;\n",
       "    }\n",
       "\n",
       "    .dataframe tbody tr th {\n",
       "        vertical-align: top;\n",
       "    }\n",
       "\n",
       "    .dataframe thead th {\n",
       "        text-align: right;\n",
       "    }\n",
       "</style>\n",
       "<table border=\"1\" class=\"dataframe\">\n",
       "  <thead>\n",
       "    <tr style=\"text-align: right;\">\n",
       "      <th></th>\n",
       "      <th>Tfc</th>\n",
       "      <th>Pa_des</th>\n",
       "      <th>Sc</th>\n",
       "      <th>Phi_c_des</th>\n",
       "      <th>epsilon_gdl</th>\n",
       "      <th>tau</th>\n",
       "      <th>epsilon_mc</th>\n",
       "      <th>epsilon_c</th>\n",
       "      <th>e</th>\n",
       "      <th>Re</th>\n",
       "      <th>i0_c_ref</th>\n",
       "      <th>kappa_co</th>\n",
       "      <th>kappa_c</th>\n",
       "      <th>a_slim</th>\n",
       "      <th>b_slim</th>\n",
       "      <th>a_switch</th>\n",
       "      <th>Pc_des</th>\n",
       "    </tr>\n",
       "  </thead>\n",
       "  <tbody>\n",
       "    <tr>\n",
       "      <th>0</th>\n",
       "      <td>335.015900</td>\n",
       "      <td>215267.894967</td>\n",
       "      <td>2.784156</td>\n",
       "      <td>0.607013</td>\n",
       "      <td>0.663508</td>\n",
       "      <td>2.960479</td>\n",
       "      <td>0.268524</td>\n",
       "      <td>0.237199</td>\n",
       "      <td>4.0</td>\n",
       "      <td>0.000002</td>\n",
       "      <td>449.366354</td>\n",
       "      <td>18.059504</td>\n",
       "      <td>73.490571</td>\n",
       "      <td>0.043931</td>\n",
       "      <td>0.924738</td>\n",
       "      <td>0.877939</td>\n",
       "      <td>195267.894967</td>\n",
       "    </tr>\n",
       "    <tr>\n",
       "      <th>1</th>\n",
       "      <td>335.930971</td>\n",
       "      <td>215267.894967</td>\n",
       "      <td>2.784156</td>\n",
       "      <td>0.607013</td>\n",
       "      <td>0.663508</td>\n",
       "      <td>2.960479</td>\n",
       "      <td>0.268524</td>\n",
       "      <td>0.237199</td>\n",
       "      <td>4.0</td>\n",
       "      <td>0.000002</td>\n",
       "      <td>449.366354</td>\n",
       "      <td>18.059504</td>\n",
       "      <td>73.490571</td>\n",
       "      <td>0.043931</td>\n",
       "      <td>0.924738</td>\n",
       "      <td>0.877939</td>\n",
       "      <td>195267.894967</td>\n",
       "    </tr>\n",
       "    <tr>\n",
       "      <th>2</th>\n",
       "      <td>335.015900</td>\n",
       "      <td>164712.670632</td>\n",
       "      <td>2.784156</td>\n",
       "      <td>0.607013</td>\n",
       "      <td>0.663508</td>\n",
       "      <td>2.960479</td>\n",
       "      <td>0.268524</td>\n",
       "      <td>0.237199</td>\n",
       "      <td>4.0</td>\n",
       "      <td>0.000002</td>\n",
       "      <td>449.366354</td>\n",
       "      <td>18.059504</td>\n",
       "      <td>73.490571</td>\n",
       "      <td>0.043931</td>\n",
       "      <td>0.924738</td>\n",
       "      <td>0.877939</td>\n",
       "      <td>144712.670632</td>\n",
       "    </tr>\n",
       "    <tr>\n",
       "      <th>3</th>\n",
       "      <td>335.015900</td>\n",
       "      <td>215267.894967</td>\n",
       "      <td>2.837283</td>\n",
       "      <td>0.607013</td>\n",
       "      <td>0.663508</td>\n",
       "      <td>2.960479</td>\n",
       "      <td>0.268524</td>\n",
       "      <td>0.237199</td>\n",
       "      <td>4.0</td>\n",
       "      <td>0.000002</td>\n",
       "      <td>449.366354</td>\n",
       "      <td>18.059504</td>\n",
       "      <td>73.490571</td>\n",
       "      <td>0.043931</td>\n",
       "      <td>0.924738</td>\n",
       "      <td>0.877939</td>\n",
       "      <td>195267.894967</td>\n",
       "    </tr>\n",
       "    <tr>\n",
       "      <th>4</th>\n",
       "      <td>335.015900</td>\n",
       "      <td>215267.894967</td>\n",
       "      <td>2.784156</td>\n",
       "      <td>0.340410</td>\n",
       "      <td>0.663508</td>\n",
       "      <td>2.960479</td>\n",
       "      <td>0.268524</td>\n",
       "      <td>0.237199</td>\n",
       "      <td>4.0</td>\n",
       "      <td>0.000002</td>\n",
       "      <td>449.366354</td>\n",
       "      <td>18.059504</td>\n",
       "      <td>73.490571</td>\n",
       "      <td>0.043931</td>\n",
       "      <td>0.924738</td>\n",
       "      <td>0.877939</td>\n",
       "      <td>195267.894967</td>\n",
       "    </tr>\n",
       "  </tbody>\n",
       "</table>\n",
       "</div>"
      ],
      "text/plain": [
       "          Tfc         Pa_des        Sc  Phi_c_des  epsilon_gdl       tau  \\\n",
       "0  335.015900  215267.894967  2.784156   0.607013     0.663508  2.960479   \n",
       "1  335.930971  215267.894967  2.784156   0.607013     0.663508  2.960479   \n",
       "2  335.015900  164712.670632  2.784156   0.607013     0.663508  2.960479   \n",
       "3  335.015900  215267.894967  2.837283   0.607013     0.663508  2.960479   \n",
       "4  335.015900  215267.894967  2.784156   0.340410     0.663508  2.960479   \n",
       "\n",
       "   epsilon_mc  epsilon_c    e        Re    i0_c_ref   kappa_co    kappa_c  \\\n",
       "0    0.268524   0.237199  4.0  0.000002  449.366354  18.059504  73.490571   \n",
       "1    0.268524   0.237199  4.0  0.000002  449.366354  18.059504  73.490571   \n",
       "2    0.268524   0.237199  4.0  0.000002  449.366354  18.059504  73.490571   \n",
       "3    0.268524   0.237199  4.0  0.000002  449.366354  18.059504  73.490571   \n",
       "4    0.268524   0.237199  4.0  0.000002  449.366354  18.059504  73.490571   \n",
       "\n",
       "     a_slim    b_slim  a_switch         Pc_des  \n",
       "0  0.043931  0.924738  0.877939  195267.894967  \n",
       "1  0.043931  0.924738  0.877939  195267.894967  \n",
       "2  0.043931  0.924738  0.877939  144712.670632  \n",
       "3  0.043931  0.924738  0.877939  195267.894967  \n",
       "4  0.043931  0.924738  0.877939  195267.894967  "
      ]
     },
     "execution_count": 34,
     "metadata": {},
     "output_type": "execute_result"
    }
   ],
   "source": [
    "samples.head()"
   ]
  },
  {
   "cell_type": "code",
   "execution_count": 35,
   "id": "cbfb61cf",
   "metadata": {},
   "outputs": [],
   "source": [
    "pd.DataFrame(samples).to_pickle(\"../data/raw/sobol_sampling_configurations_cmpl.pkl\")"
   ]
  },
  {
   "cell_type": "code",
   "execution_count": 36,
   "id": "e09c45cd",
   "metadata": {},
   "outputs": [
    {
     "name": "stderr",
     "output_type": "stream",
     "text": [
      "d:\\Users\\kju10\\Documents\\LMU-STATISTICS & DATA SCIENCE MASTER\\WS2425\\Consulting\\project\\Sensitivity-Analysis-and-Surrogate-Modeling-of-PEM-Fuel-Cells\\env\\Lib\\site-packages\\numpy\\_core\\fromnumeric.py:57: FutureWarning: 'DataFrame.swapaxes' is deprecated and will be removed in a future version. Please use 'DataFrame.transpose' instead.\n",
      "  return bound(*args, **kwds)\n"
     ]
    }
   ],
   "source": [
    "split_dejvis, split_nathaly, split_camila = np.array_split(samples, 3)"
   ]
  },
  {
   "cell_type": "code",
   "execution_count": 37,
   "id": "daa58c42",
   "metadata": {},
   "outputs": [
    {
     "data": {
      "text/plain": [
       "pandas.core.frame.DataFrame"
      ]
     },
     "execution_count": 37,
     "metadata": {},
     "output_type": "execute_result"
    }
   ],
   "source": [
    "type(split_camila)"
   ]
  },
  {
   "cell_type": "code",
   "execution_count": null,
   "id": "53bb730d",
   "metadata": {},
   "outputs": [],
   "source": [
    "save_filepath = \"../data/raw/sobol_sampling_split_camila.pkl\"\n",
    "results = get_polarisation_curve_samples(sampled_parameters=split_camila.to_dict(orient='records'), fixed_parameters = build_fixed_parameters(), save_path='../data/raw/sample_1_test.pkl')\n"
   ]
  },
  {
   "cell_type": "code",
   "execution_count": null,
   "id": "e957cea4",
   "metadata": {},
   "outputs": [],
   "source": []
  }
 ],
 "metadata": {
  "kernelspec": {
   "display_name": "env",
   "language": "python",
   "name": "python3"
  },
  "language_info": {
   "codemirror_mode": {
    "name": "ipython",
    "version": 3
   },
   "file_extension": ".py",
   "mimetype": "text/x-python",
   "name": "python",
   "nbconvert_exporter": "python",
   "pygments_lexer": "ipython3",
   "version": "3.11.3"
  }
 },
 "nbformat": 4,
 "nbformat_minor": 5
}
