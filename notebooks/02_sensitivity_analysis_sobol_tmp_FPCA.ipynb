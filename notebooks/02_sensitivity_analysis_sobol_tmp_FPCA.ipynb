{
 "cells": [
  {
   "cell_type": "code",
   "execution_count": 2,
   "id": "ab8fdeb3",
   "metadata": {},
   "outputs": [],
   "source": [
    "import numpy as np\n",
    "import sys\n",
    "import os\n",
    "import pandas as pd\n",
    "\n",
    "# Adjust the path to point to external/AlphaPEM\n",
    "sys.path.append(os.path.abspath(os.path.join(os.getcwd(), '..')))\n",
    "from src.sampling.sampler import get_polarisation_curve_samples, build_fixed_parameters, sample_parameters, PARAMETER_RANGES"
   ]
  },
  {
   "cell_type": "code",
   "execution_count": 3,
   "id": "28e19d4f",
   "metadata": {},
   "outputs": [],
   "source": [
    "def make_bounds_exclusive(bounds, epsilon=1e-8):\n",
    "    return [(low + epsilon, high - epsilon) for (low, high) in bounds]\n",
    "\n",
    "def prepare_problem(PARAMETER_RANGES, dependent_param=\"Pc_des\"):\n",
    "    independent_params = {\n",
    "        k: v for k, v in PARAMETER_RANGES.items()\n",
    "        if k != dependent_param\n",
    "    }\n",
    "    # Add dummy variable to later compute dependent_param\n",
    "    z_key = f\"z_{dependent_param}\"\n",
    "    independent_params[z_key] = (0, 1)\n",
    "\n",
    "    bounds = [v if isinstance(v, tuple) else [min(v), max(v)] for v in independent_params.values()]\n",
    "    bounds = make_bounds_exclusive(bounds)\n",
    "\n",
    "    problem = {\n",
    "        \"num_vars\": len(independent_params),\n",
    "        \"names\": list(independent_params.keys()),\n",
    "        \"bounds\": bounds,\n",
    "        \"groups\": list(independent_params.keys())  # optional but useful for group-based SA\n",
    "    }\n",
    "    return problem\n",
    "\n",
    "problem = prepare_problem(PARAMETER_RANGES)"
   ]
  },
  {
   "cell_type": "code",
   "execution_count": 4,
   "id": "09510b6c",
   "metadata": {},
   "outputs": [
    {
     "name": "stdout",
     "output_type": "stream",
     "text": [
      "(168, 19)\n"
     ]
    }
   ],
   "source": [
    "from SALib.sample import sobol\n",
    "from SALib.analyze import sobol as sobol_analyze\n",
    "import random\n",
    "\n",
    "def generate_samples(problem, N=2, seed=42):\n",
    "    np.random.seed(seed)\n",
    "    random.seed(seed)\n",
    "    samples = sobol.sample(problem, N=N, calc_second_order= False, scramble= True, seed=seed)\n",
    "\n",
    "    # Add a new column for the trajectory number\n",
    "    trajectory_numbers = np.tile(np.arange(1, N + 1), (problem[\"num_vars\"], 1)).flatten()\n",
    "\n",
    "    return pd.DataFrame(samples, columns=problem[\"names\"]), trajectory_numbers\n",
    "\n",
    "def compute_dependent_param(df_samples, param_name=\"Pc_des\", Pext=101325):\n",
    "    z_key = f\"z_{param_name}\"\n",
    "    Pa_des = df_samples[\"Pa_des\"]\n",
    "    z = df_samples[z_key]\n",
    "\n",
    "    low = np.maximum(Pext, Pa_des - 0.5e5)\n",
    "    high = np.maximum(Pext, Pa_des - 0.1e5)\n",
    "\n",
    "    df_samples[param_name] = low + z * (high - low)\n",
    "    df_samples = df_samples.drop(columns=z_key)\n",
    "    return df_samples, low, high\n",
    "\n",
    "df_samples, trajectory_numbers = generate_samples(problem, N=8)\n",
    "df_samples, low, high = compute_dependent_param(df_samples)\n",
    "print(df_samples.shape)\n",
    "\n",
    "df_samples['e'] = np.round(df_samples['e'])\n"
   ]
  },
  {
   "cell_type": "code",
   "execution_count": 5,
   "id": "be0cbf81",
   "metadata": {},
   "outputs": [
    {
     "data": {
      "text/plain": [
       "'    out_of_bounds = {}\\n\\n    for key, bounds in bounds_dict.items():\\n        if key not in sample:\\n            continue  # skip if not part of the sample\\n\\n        value = sample[key]\\n\\n        if bounds is None:\\n            continue  # no bounds specified\\n\\n        if isinstance(bounds, tuple):\\n            lower, upper = bounds\\n            if not (lower <= value <= upper):\\n                out_of_bounds[key] = {\"value\": value, \"bounds\": bounds}\\n\\n        elif isinstance(bounds, list):\\n            if value not in bounds:\\n                out_of_bounds[key] = {\"value\": value, \"allowed\": bounds}\\n\\n    return len(out_of_bounds) == 0, out_of_bounds\\n\\nfor sample in df_samples.to_dict(orient=\\'records\\'):\\n    res = is_sample_in_bounds(sample, bounds_dict=PARAMETER_RANGES)\\n    if res[0] == False:\\n        print(res[1]) '"
      ]
     },
     "execution_count": 5,
     "metadata": {},
     "output_type": "execute_result"
    }
   ],
   "source": [
    "\"\"\" def is_sample_in_bounds(sample, bounds_dict):\n",
    "    \"\"\"\n",
    "\"\"\"\n",
    "    Check if a sample is within the specified parameter bounds.\n",
    "\"\"\"\n",
    "\"\"\"\n",
    "    Args:\n",
    "        sample (dict): A dictionary of parameter values.\n",
    "        bounds_dict (dict): A dictionary with parameter names as keys and tuples or lists as bounds.\n",
    "\n",
    "    Returns:\n",
    "        bool: True if all parameters are within bounds, False otherwise.\n",
    "        dict: A dictionary of out-of-bound parameters with their values and bounds.\n",
    "    \"\"\"\n",
    "\"\"\"    out_of_bounds = {}\n",
    "\n",
    "    for key, bounds in bounds_dict.items():\n",
    "        if key not in sample:\n",
    "            continue  # skip if not part of the sample\n",
    "\n",
    "        value = sample[key]\n",
    "\n",
    "        if bounds is None:\n",
    "            continue  # no bounds specified\n",
    "\n",
    "        if isinstance(bounds, tuple):\n",
    "            lower, upper = bounds\n",
    "            if not (lower <= value <= upper):\n",
    "                out_of_bounds[key] = {\"value\": value, \"bounds\": bounds}\n",
    "\n",
    "        elif isinstance(bounds, list):\n",
    "            if value not in bounds:\n",
    "                out_of_bounds[key] = {\"value\": value, \"allowed\": bounds}\n",
    "\n",
    "    return len(out_of_bounds) == 0, out_of_bounds\n",
    "\n",
    "for sample in df_samples.to_dict(orient='records'):\n",
    "    res = is_sample_in_bounds(sample, bounds_dict=PARAMETER_RANGES)\n",
    "    if res[0] == False:\n",
    "        print(res[1]) \"\"\""
   ]
  },
  {
   "cell_type": "code",
   "execution_count": 6,
   "id": "3ca3bb89",
   "metadata": {},
   "outputs": [],
   "source": [
    "results = pd.read_pickle('../data/raw/sobol_sample_results_N8.pkl')"
   ]
  },
  {
   "cell_type": "code",
   "execution_count": 7,
   "id": "2efa8b88",
   "metadata": {},
   "outputs": [],
   "source": [
    "def replace_z_with_actual_param(problem, low, high, param_name=\"Pc_des\"):\n",
    "    z_key = f\"z_{param_name}\"\n",
    "    idx = problem[\"names\"].index(z_key)\n",
    "    problem[\"names\"][idx] = param_name\n",
    "    problem[\"bounds\"][idx] = (low.min(), high.max())\n",
    "    problem[\"groups\"][idx] = param_name\n",
    "    return problem\n",
    "\n",
    "problem = replace_z_with_actual_param(problem, low, high)"
   ]
  },
  {
   "cell_type": "code",
   "execution_count": 26,
   "id": "23f6255a",
   "metadata": {},
   "outputs": [],
   "source": [
    "import skfda\n",
    "from skfda.preprocessing.dim_reduction.feature_extraction import FPCA\n",
    "\n",
    "def perform_functional_PCA(results, output_key='Ucell', n_components = 3, cumulative_var = 0.95):\n",
    "\n",
    "    Y_all = np.stack(results[output_key].values)\n",
    "    n_outputs = Y_all.shape[1]\n",
    "    \n",
    "    fd = skfda.FDataGrid(data_matrix=Y_all, grid_points=range(n_outputs))\n",
    "    \n",
    "    # Initialize FPCA\n",
    "    fpca = FPCA(n_components=n_components) \n",
    "    fpca.fit(fd)\n",
    "\n",
    "    # Transform the data into FPCA scores (components' coefficients)\n",
    "    Y_fpca_scores = fpca.transform(fd)\n",
    "\n",
    "    # Explained variance by FPCA components\n",
    "    explained_variance_ratio = np.cumsum(fpca.explained_variance_ratio_)\n",
    "    \n",
    "    # Select how many components to keep (explaining cumulative_var% of the variance)\n",
    "    n_components_to_keep = np.argmax(explained_variance_ratio >= cumulative_var) + 1\n",
    "\n",
    "    return Y_fpca_scores, explained_variance_ratio, n_components_to_keep\n",
    "\n",
    "Y_fpca_scores, explained_var, n_comp_keep = perform_functional_PCA(results, output_key='Ucell')"
   ]
  },
  {
   "cell_type": "code",
   "execution_count": 30,
   "id": "ae0504ac",
   "metadata": {},
   "outputs": [
    {
     "name": "stderr",
     "output_type": "stream",
     "text": [
      "d:\\Users\\kju10\\Documents\\LMU-STATISTICS & DATA SCIENCE MASTER\\WS2425\\Consulting\\project\\Sensitivity-Analysis-and-Surrogate-Modeling-of-PEM-Fuel-Cells\\env\\Lib\\site-packages\\SALib\\util\\__init__.py:274: FutureWarning: unique with argument that is not not a Series, Index, ExtensionArray, or np.ndarray is deprecated and will raise in a future version.\n",
      "  names = list(pd.unique(groups))\n"
     ]
    }
   ],
   "source": [
    "def run_sobol_analysis( problem, Y_fpca_scores, num_resamples = 100,seed=42,n_components =1):\n",
    "    np.random.seed(seed)\n",
    "    random.seed(seed)\n",
    "\n",
    "    sobol_all = []\n",
    "    for i in range(n_components):\n",
    "        analysis = sobol_analyze.analyze(\n",
    "            problem=problem,\n",
    "            Y=Y_fpca_scores[:, i],\n",
    "            calc_second_order = False,\n",
    "            num_resamples=num_resamples,\n",
    "            conf_level=0.95,\n",
    "            print_to_console=False,\n",
    "            seed = 42\n",
    "        )\n",
    "        sobol_all.append({\n",
    "            'S1': analysis['S1'],\n",
    "            'S1_conf': analysis['S1_conf'],\n",
    "            'ST': analysis['ST'],\n",
    "            'ST_conf': analysis['ST_conf'],\n",
    "            'param': problem['names'],\n",
    "            'output_index': i\n",
    "        })\n",
    "    return sobol_all\n",
    "\n",
    "sobol_all = run_sobol_analysis( problem,Y_fpca_scores ,num_resamples = 1000,n_components= n_comp_keep)\n"
   ]
  },
  {
   "cell_type": "code",
   "execution_count": null,
   "id": "0ecd2585",
   "metadata": {},
   "outputs": [
    {
     "data": {
      "image/png": "[encoded data removed]",
      "text/plain": [
       "<Figure size 1000x600 with 1 Axes>"
      ]
     },
     "metadata": {},
     "output_type": "display_data"
    }
   ],
   "source": [
    "import matplotlib.pyplot as plt\n",
    "import numpy as np\n",
    "\n",
    "def plot_sobol_sensitivity_per_index(sobol_all, figsize=(10, 6), sort_by='S1'):\n",
    "    \"\"\"\n",
    "    Plots Sobol sensitivity analysis results with side-by-side horizontal bar plots for S1 and ST.\n",
    "    \n",
    "    Parameters:\n",
    "    - sobol_all: list of dicts with keys 'S1', 'S1_conf', 'ST', 'ST_conf', 'param', and 'output_index'\n",
    "    - figsize: tuple, size of each plot\n",
    "    - sort_by: 'S1' or 'ST', which index to use for sorting bars (default is 'S1')\n",
    "    \"\"\"\n",
    "    n_outputs = len(sobol_all)\n",
    "\n",
    "    for i in range(n_outputs):\n",
    "        result = sobol_all[i]\n",
    "        S1 = np.array(result['S1'])\n",
    "        S1_conf = np.array(result['S1_conf'])\n",
    "        ST = np.array(result['ST'])\n",
    "        ST_conf = np.array(result['ST_conf'])\n",
    "        param_names = np.array(result['param'])\n",
    "\n",
    "        sorted_indices = np.argsort(S1)[::-1]  # Sort descending by S1\n",
    "        params_sorted = [param_names[i] for i in sorted_indices]\n",
    "        S1_sorted = S1[sorted_indices]\n",
    "        S1_conf_sorted = S1_conf[sorted_indices]\n",
    "        ST_sorted = ST[sorted_indices]\n",
    "        ST_conf_sorted = ST_conf[sorted_indices]\n",
    "\n",
    "        # Plot\n",
    "        fig, ax = plt.subplots(figsize=(10, 6))\n",
    "\n",
    "        x = np.arange(len(params_sorted))\n",
    "\n",
    "        ax.bar(x - 0.2, S1_sorted, width=0.4, yerr=S1_conf_sorted, label='First-order (S1)', capsize=5)\n",
    "        ax.bar(x + 0.2, ST_sorted, width=0.4, yerr=ST_conf_sorted, label='Total-order (ST)', capsize=5)\n",
    "\n",
    "        ax.set_ylabel('Sobol Index')\n",
    "        ax.set_title(f'Sobol Sensitivity Indices - PC{i+1}')\n",
    "        ax.set_xticks(x)\n",
    "        ax.set_xticklabels(params_sorted, rotation=90)\n",
    "        ax.legend()\n",
    "        ax.grid(True)\n",
    "        plt.tight_layout()\n",
    "        plt.show()\n",
    "\n",
    "plot_sobol_sensitivity_per_index(sobol_all)"
   ]
  },
  {
   "cell_type": "code",
   "execution_count": null,
   "id": "947fb74c",
   "metadata": {},
   "outputs": [],
   "source": []
  }
 ],
 "metadata": {
  "kernelspec": {
   "display_name": "env",
   "language": "python",
   "name": "python3"
  },
  "language_info": {
   "codemirror_mode": {
    "name": "ipython",
    "version": 3
   },
   "file_extension": ".py",
   "mimetype": "text/x-python",
   "name": "python",
   "nbconvert_exporter": "python",
   "pygments_lexer": "ipython3",
   "version": "3.11.3"
  }
 },
 "nbformat": 4,
 "nbformat_minor": 5
}
