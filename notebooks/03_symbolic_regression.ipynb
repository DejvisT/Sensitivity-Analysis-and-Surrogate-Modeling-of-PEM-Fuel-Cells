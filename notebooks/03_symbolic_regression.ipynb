{
 "cells": [
  {
   "cell_type": "markdown",
   "id": "791aef08",
   "metadata": {},
   "source": [
    "### Symbolic Regression with PySr\n"
   ]
  },
  {
   "cell_type": "code",
   "execution_count": 1,
   "id": "09b65c53",
   "metadata": {},
   "outputs": [],
   "source": [
    "import pandas as pd\n",
    "import numpy as np\n",
    "import sys\n",
    "import os\n",
    "\n",
    "# Adjust the path to point to external/AlphaPEM\n",
    "sys.path.append(os.path.abspath(os.path.join(os.getcwd(), '..')))\n",
    "from src.sampling.sampler import get_polarisation_curve_samples, build_fixed_parameters, sample_parameters, PARAMETER_RANGES"
   ]
  },
  {
   "cell_type": "code",
   "execution_count": 2,
   "id": "e22e888e",
   "metadata": {},
   "outputs": [],
   "source": [
    "data = pd.read_pickle('../data/raw/N10_levels4_seed42.pkl')"
   ]
  },
  {
   "cell_type": "code",
   "execution_count": 3,
   "id": "c5d5696c",
   "metadata": {},
   "outputs": [],
   "source": [
    "exploaded_df = data.explode(['ifc', 'Ucell'])\n",
    "exploaded_df = exploaded_df[0:100]  # Limit to 1000 samples for faster processing"
   ]
  },
  {
   "cell_type": "code",
   "execution_count": 4,
   "id": "8e8a2ef0",
   "metadata": {},
   "outputs": [
    {
     "name": "stdout",
     "output_type": "stream",
     "text": [
      "Detected IPython. Loading juliacall extension. See https://juliapy.github.io/PythonCall.jl/stable/compat/#IPython\n"
     ]
    },
    {
     "name": "stderr",
     "output_type": "stream",
     "text": [
      "c:\\Users\\dejvi\\Documents\\GitHub\\Sensitivity-Analysis-and-Surrogate-Modeling-of-PEM-Fuel-Cells\\AlphaPEM_env\\Lib\\site-packages\\pysr\\sr.py:1036: FutureWarning: `loss` has been renamed to `elementwise_loss` in PySRRegressor. Please use that instead.\n",
      "  warnings.warn(\n",
      "c:\\Users\\dejvi\\Documents\\GitHub\\Sensitivity-Analysis-and-Surrogate-Modeling-of-PEM-Fuel-Cells\\AlphaPEM_env\\Lib\\site-packages\\pysr\\sr.py:1036: FutureWarning: `ncyclesperiteration` has been renamed to `ncycles_per_iteration` in PySRRegressor. Please use that instead.\n",
      "  warnings.warn(\n",
      "c:\\Users\\dejvi\\Documents\\GitHub\\Sensitivity-Analysis-and-Surrogate-Modeling-of-PEM-Fuel-Cells\\AlphaPEM_env\\Lib\\site-packages\\pysr\\sr.py:2811: UserWarning: Note: it looks like you are running in Jupyter. The progress bar will be turned off.\n",
      "  warnings.warn(\n",
      "Compiling Julia backend...\n",
      "[ Info: Started!\n",
      "[ Info: Final population:\n",
      "[ Info: Results saved to:\n",
      "c:\\Users\\dejvi\\Documents\\GitHub\\Sensitivity-Analysis-and-Surrogate-Modeling-of-PEM-Fuel-Cells\\AlphaPEM_env\\Lib\\site-packages\\pysr\\sr.py:1036: FutureWarning: `loss` has been renamed to `elementwise_loss` in PySRRegressor. Please use that instead.\n",
      "  warnings.warn(\n",
      "c:\\Users\\dejvi\\Documents\\GitHub\\Sensitivity-Analysis-and-Surrogate-Modeling-of-PEM-Fuel-Cells\\AlphaPEM_env\\Lib\\site-packages\\pysr\\sr.py:1036: FutureWarning: `ncyclesperiteration` has been renamed to `ncycles_per_iteration` in PySRRegressor. Please use that instead.\n",
      "  warnings.warn(\n",
      "c:\\Users\\dejvi\\Documents\\GitHub\\Sensitivity-Analysis-and-Surrogate-Modeling-of-PEM-Fuel-Cells\\AlphaPEM_env\\Lib\\site-packages\\pysr\\sr.py:2811: UserWarning: Note: it looks like you are running in Jupyter. The progress bar will be turned off.\n",
      "  warnings.warn(\n"
     ]
    },
    {
     "name": "stdout",
     "output_type": "stream",
     "text": [
      "───────────────────────────────────────────────────────────────────────────────────────────────────\n",
      "Complexity  Loss       Score      Equation\n",
      "1           9.795e+00  0.000e+00  y = 3.8124\n",
      "3           3.926e+00  4.571e-01  y = x₁ * 2.6471e-05\n",
      "4           2.722e+00  3.663e-01  y = square(x₁) * 1.2866e-10\n",
      "5           8.840e-01  1.125e+00  y = (x₁ * 3.3905e-05) - x₁₇\n",
      "7           3.228e-01  5.037e-01  y = (x₁ * 3.8752e-05) - (x₁₇ * 1.652)\n",
      "9           2.938e-01  4.711e-02  y = ((x₁ / 80.941) / x₀) - sqrt(cube(x₁₇))\n",
      "11          1.925e-01  2.114e-01  y = ((x₁ / 348.88) / (x₀ + -257.11)) - sqrt(cube(x₁₇))\n",
      "12          1.306e-01  3.882e-01  y = (13.361 - sqrt(cube(x₁₇))) + (square(x₀) / (x₂ / -8.82...\n",
      "                                      93))\n",
      "13          1.281e-01  1.906e-02  y = (13.273 - sqrt(cube(x₁₇))) + ((x₀ + -188.85) / (x₂ / -...\n",
      "                                      6677.6))\n",
      "15          1.281e-01  7.010e-05  y = (13.263 - sqrt(cube(x₁₇))) + ((x₀ - 191.72) / ((x₁₇ + ...\n",
      "                                      x₂) / -6796.7))\n",
      "17          1.281e-01  2.238e-05  y = (13.271 - sqrt(cube(x₁₇))) + (((x₀ - -24.008) + -213.6...\n",
      "                                      2) / ((x₁₇ + x₂) / -6708.9))\n",
      "19          1.281e-01  1.034e-05  y = ((x₁₄ + 13.261) - sqrt(cube(x₁₇))) + (((x₀ - -23.777) ...\n",
      "                                      + -213.85) / ((x₂ + -213.62) / -6708.9))\n",
      "20          7.464e-02  5.400e-01  y = (30.554 - cube(sqrt(x₁₇))) + (((0.0013821 / x₁₇) - sqr...\n",
      "                                      t(x₀)) + ((x₀ + -103.06) / (x₁ / -3723.7)))\n",
      "───────────────────────────────────────────────────────────────────────────────────────────────────\n",
      "  - ../models/pysr_equations\\20250618_190602_Ca41zx\\hall_of_fame.csv\n"
     ]
    },
    {
     "name": "stderr",
     "output_type": "stream",
     "text": [
      "[ Info: Started!\n",
      "[ Info: Final population:\n",
      "[ Info: Results saved to:\n",
      "c:\\Users\\dejvi\\Documents\\GitHub\\Sensitivity-Analysis-and-Surrogate-Modeling-of-PEM-Fuel-Cells\\AlphaPEM_env\\Lib\\site-packages\\pysr\\sr.py:1036: FutureWarning: `loss` has been renamed to `elementwise_loss` in PySRRegressor. Please use that instead.\n",
      "  warnings.warn(\n",
      "c:\\Users\\dejvi\\Documents\\GitHub\\Sensitivity-Analysis-and-Surrogate-Modeling-of-PEM-Fuel-Cells\\AlphaPEM_env\\Lib\\site-packages\\pysr\\sr.py:1036: FutureWarning: `ncyclesperiteration` has been renamed to `ncycles_per_iteration` in PySRRegressor. Please use that instead.\n",
      "  warnings.warn(\n",
      "c:\\Users\\dejvi\\Documents\\GitHub\\Sensitivity-Analysis-and-Surrogate-Modeling-of-PEM-Fuel-Cells\\AlphaPEM_env\\Lib\\site-packages\\pysr\\sr.py:2811: UserWarning: Note: it looks like you are running in Jupyter. The progress bar will be turned off.\n",
      "  warnings.warn(\n"
     ]
    },
    {
     "name": "stdout",
     "output_type": "stream",
     "text": [
      "───────────────────────────────────────────────────────────────────────────────────────────────────\n",
      "Complexity  Loss       Score      Equation\n",
      "1           8.798e+00  0.000e+00  y = 3.7584\n",
      "3           3.745e+00  4.270e-01  y = x₁ * 2.5912e-05\n",
      "4           3.048e+00  2.060e-01  y = square(x₁) * 1.2521e-10\n",
      "5           9.143e-01  1.204e+00  y = (x₁ * 3.3801e-05) - x₁₇\n",
      "7           3.142e-01  5.340e-01  y = (x₂ * 4.3192e-05) - (x₁₇ * 1.858)\n",
      "9           2.218e-01  1.742e-01  y = ((x₂ * 0.01442) / x₀) - (x₁₇ * 1.826)\n",
      "11          1.380e-01  2.372e-01  y = (x₂ * ((0.046374 / x₀) - 9.6003e-05)) - (x₁₇ * 1.7337)\n",
      "13          8.704e-02  2.305e-01  y = (x₂ * ((0.063912 / x₀) - 0.00015313)) - ((x₁₇ * 1.8322...\n",
      "                                      ) - 0.96466)\n",
      "15          8.704e-02  2.980e-08  y = (x₂ * ((0.06387 / x₀) - 0.000153)) - (((x₁₇ * 1.1604) ...\n",
      "                                      - 0.61016) / x₅)\n",
      "───────────────────────────────────────────────────────────────────────────────────────────────────\n",
      "  - ../models/pysr_equations\\20250618_190617_vjDzbE\\hall_of_fame.csv\n"
     ]
    },
    {
     "name": "stderr",
     "output_type": "stream",
     "text": [
      "[ Info: Started!\n",
      "[ Info: Final population:\n",
      "[ Info: Results saved to:\n",
      "c:\\Users\\dejvi\\Documents\\GitHub\\Sensitivity-Analysis-and-Surrogate-Modeling-of-PEM-Fuel-Cells\\AlphaPEM_env\\Lib\\site-packages\\pysr\\sr.py:1036: FutureWarning: `loss` has been renamed to `elementwise_loss` in PySRRegressor. Please use that instead.\n",
      "  warnings.warn(\n",
      "c:\\Users\\dejvi\\Documents\\GitHub\\Sensitivity-Analysis-and-Surrogate-Modeling-of-PEM-Fuel-Cells\\AlphaPEM_env\\Lib\\site-packages\\pysr\\sr.py:1036: FutureWarning: `ncyclesperiteration` has been renamed to `ncycles_per_iteration` in PySRRegressor. Please use that instead.\n",
      "  warnings.warn(\n",
      "c:\\Users\\dejvi\\Documents\\GitHub\\Sensitivity-Analysis-and-Surrogate-Modeling-of-PEM-Fuel-Cells\\AlphaPEM_env\\Lib\\site-packages\\pysr\\sr.py:2811: UserWarning: Note: it looks like you are running in Jupyter. The progress bar will be turned off.\n",
      "  warnings.warn(\n"
     ]
    },
    {
     "name": "stdout",
     "output_type": "stream",
     "text": [
      "───────────────────────────────────────────────────────────────────────────────────────────────────\n",
      "Complexity  Loss       Score      Equation\n",
      "1           9.056e+00  0.000e+00  y = 3.9015\n",
      "3           3.676e+00  4.508e-01  y = x₁ * 2.6352e-05\n",
      "4           2.899e+00  2.374e-01  y = square(x₁ * 1.1163e-05)\n",
      "5           8.536e-01  1.223e+00  y = (x₁ * 3.4012e-05) - x₁₇\n",
      "7           3.147e-01  4.989e-01  y = (x₂ * 4.3218e-05) + (x₁₇ * -1.8422)\n",
      "9           2.317e-01  1.531e-01  y = (x₁₇ * -1.8119) - (x₂ * (-0.014416 / x₀))\n",
      "11          1.566e-01  1.960e-01  y = (x₁₇ * -1.726) - ((x₂ * 0.0038644) / (243.56 - x₀))\n",
      "13          9.655e-02  2.418e-01  y = ((x₁₇ * -1.8459) - -1.0552) + ((x₂ * -0.0018965) / (28...\n",
      "                                      3.63 - x₀))\n",
      "17          9.148e-02  1.348e-02  y = (x₁ * 7.4866e-06) - ((-1.1022 - (x₁₇ * -1.8247)) + ((x...\n",
      "                                      ₂ * 0.0010863) / (296.72 - x₀)))\n",
      "───────────────────────────────────────────────────────────────────────────────────────────────────\n",
      "  - ../models/pysr_equations\\20250618_190622_XFkBwT\\hall_of_fame.csv\n"
     ]
    },
    {
     "name": "stderr",
     "output_type": "stream",
     "text": [
      "[ Info: Started!\n",
      "[ Info: Final population:\n",
      "[ Info: Results saved to:\n",
      "c:\\Users\\dejvi\\Documents\\GitHub\\Sensitivity-Analysis-and-Surrogate-Modeling-of-PEM-Fuel-Cells\\AlphaPEM_env\\Lib\\site-packages\\pysr\\sr.py:1036: FutureWarning: `loss` has been renamed to `elementwise_loss` in PySRRegressor. Please use that instead.\n",
      "  warnings.warn(\n",
      "c:\\Users\\dejvi\\Documents\\GitHub\\Sensitivity-Analysis-and-Surrogate-Modeling-of-PEM-Fuel-Cells\\AlphaPEM_env\\Lib\\site-packages\\pysr\\sr.py:1036: FutureWarning: `ncyclesperiteration` has been renamed to `ncycles_per_iteration` in PySRRegressor. Please use that instead.\n",
      "  warnings.warn(\n",
      "c:\\Users\\dejvi\\Documents\\GitHub\\Sensitivity-Analysis-and-Surrogate-Modeling-of-PEM-Fuel-Cells\\AlphaPEM_env\\Lib\\site-packages\\pysr\\sr.py:2811: UserWarning: Note: it looks like you are running in Jupyter. The progress bar will be turned off.\n",
      "  warnings.warn(\n"
     ]
    },
    {
     "name": "stdout",
     "output_type": "stream",
     "text": [
      "\n",
      "Expressions evaluated per second: 1.560e+05\n",
      "Progress: 3003 / 3100 total iterations (96.871%)\n",
      "════════════════════════════════════════════════════════════════════════════════════════════════════\n",
      "───────────────────────────────────────────────────────────────────────────────────────────────────\n",
      "Complexity  Loss       Score      Equation\n",
      "1           8.917e+00  0.000e+00  y = 3.7621\n",
      "3           3.932e+00  4.094e-01  y = x₁ * 2.5886e-05\n",
      "5           1.065e+00  6.529e-01  y = (x₁ * 3.3687e-05) - x₁₇\n",
      "7           3.195e-01  6.022e-01  y = (x₁ * 4.0185e-05) - (x₁₇ / 0.54563)\n",
      "8           3.147e-01  1.492e-02  y = (x₁ * 4.0152e-05) - (x₁₇ / sqrt(x₈))\n",
      "9           2.579e-01  1.991e-01  y = (x₁ * (0.013372 / x₀)) - (x₁₇ / 0.56216)\n",
      "11          2.405e-01  3.495e-02  y = ((x₁ * (0.012985 / x₀)) - (x₁₇ * 1.8381)) + x₈\n",
      "12          2.364e-01  1.738e-02  y = x₈ + (((x₁ * 0.01296) / x₀) - (x₁₇ / sqrt(x₈)))\n",
      "13          1.135e-01  7.337e-01  y = ((x₁ * 3.3791e-05) - ((x₁₇ + -11.731) * 1.7985)) + (x₀...\n",
      "                                       * -0.059058)\n",
      "15          1.135e-01  9.954e-06  y = (((x₁ * 0.011245) / x₀) - ((x₁₇ + -9.8236) * 1.7979)) ...\n",
      "                                      + (x₀ * -0.048729)\n",
      "17          1.135e-01  2.086e-07  y = (((x₁ * 0.011246) / x₀) - ((x₁₇ + -9.8193) / (x₆ / 3.5...\n",
      "                                      96))) + (x₀ * -0.04871)\n",
      "18          8.113e-02  3.357e-01  y = ((x₁ * 3.325e-05) - ((x₁₇ + -13.175) / (x₆ / 3.4095)))...\n",
      "                                       + ((log(x₁₇) + x₀) * -0.063241)\n",
      "───────────────────────────────────────────────────────────────────────────────────────────────────\n",
      "════════════════════════════════════════════════════════════════════════════════════════════════════\n",
      "Press 'q' and then <enter> to stop execution early.\n",
      "───────────────────────────────────────────────────────────────────────────────────────────────────\n",
      "Complexity  Loss       Score      Equation\n",
      "1           8.917e+00  0.000e+00  y = 3.7621\n",
      "3           3.932e+00  4.094e-01  y = x₁ * 2.5886e-05\n",
      "5           1.065e+00  6.529e-01  y = (x₁ * 3.3687e-05) - x₁₇\n",
      "7           3.195e-01  6.022e-01  y = (x₁ * 4.0185e-05) - (x₁₇ / 0.54563)\n",
      "8           3.147e-01  1.492e-02  y = (x₁ * 4.0152e-05) - (x₁₇ / sqrt(x₈))\n",
      "9           2.579e-01  1.991e-01  y = (x₁ * (0.013372 / x₀)) - (x₁₇ / 0.56216)\n",
      "11          2.405e-01  3.495e-02  y = ((x₁ * (0.012985 / x₀)) - (x₁₇ * 1.8381)) + x₈\n",
      "12          2.364e-01  1.738e-02  y = x₈ + (((x₁ * 0.01296) / x₀) - (x₁₇ / sqrt(x₈)))\n",
      "13          1.135e-01  7.337e-01  y = ((x₁ * 3.3791e-05) - ((x₁₇ + -11.731) * 1.7985)) + (x₀...\n",
      "                                       * -0.059058)\n",
      "15          1.135e-01  9.954e-06  y = (((x₁ * 0.011245) / x₀) - ((x₁₇ + -9.8236) * 1.7979)) ...\n",
      "                                      + (x₀ * -0.048729)\n",
      "17          1.135e-01  2.086e-07  y = (((x₁ * 0.011246) / x₀) - ((x₁₇ + -9.8193) / (x₆ / 3.5...\n",
      "                                      96))) + (x₀ * -0.04871)\n",
      "18          8.113e-02  3.357e-01  y = (((x₁ * 1.9504e-05) - (x₁₇ + -13.175)) / (x₆ / 3.4095)...\n",
      "                                      ) + ((log(x₁₇) + x₀) * -0.063241)\n",
      "───────────────────────────────────────────────────────────────────────────────────────────────────\n",
      "  - ../models/pysr_equations\\20250618_190627_LIzVC5\\hall_of_fame.csv\n"
     ]
    },
    {
     "name": "stderr",
     "output_type": "stream",
     "text": [
      "[ Info: Started!\n",
      "[ Info: Final population:\n",
      "[ Info: Results saved to:\n"
     ]
    },
    {
     "name": "stdout",
     "output_type": "stream",
     "text": [
      "\n",
      "Expressions evaluated per second: 2.220e+05\n",
      "Progress: 2936 / 3100 total iterations (94.710%)\n",
      "════════════════════════════════════════════════════════════════════════════════════════════════════\n",
      "───────────────────────────────────────────────────────────────────────────────────────────────────\n",
      "Complexity  Loss       Score      Equation\n",
      "1           9.444e+00  0.000e+00  y = 3.9314\n",
      "3           3.667e+00  4.730e-01  y = x₁ * 2.7529e-05\n",
      "4           3.104e+00  1.666e-01  y = square(x₂) * 1.5726e-10\n",
      "5           9.125e-01  1.224e+00  y = (x₁ * 3.4499e-05) - x₁₇\n",
      "7           3.467e-01  4.839e-01  y = (x₂ * 4.3556e-05) - (x₁₇ * 1.8927)\n",
      "9           2.868e-01  9.487e-02  y = ((x₀ * x₁₇) * -0.0055669) - (x₂ * -4.3479e-05)\n",
      "11          1.822e-01  2.269e-01  y = (x₂ * 4.2689e-05) - (x₁₇ * ((x₀ * 0.027381) + -7.4798)...\n",
      "                                      )\n",
      "12          1.822e-01  5.960e-08  y = (x₂ * 4.2689e-05) - ((log(x₀) + -5.6336) * (x₁₇ * 9.38...\n",
      "                                      7))\n",
      "13          1.771e-01  2.838e-02  y = ((x₂ * 4.1316e-05) - ((x₀ + -275.76) * (x₁₇ * 0.029148...\n",
      "                                      ))) + 0.27762\n",
      "15          8.711e-02  3.547e-01  y = (0.0012065 / x₁₇) + ((x₂ * 4.1569e-05) - ((x₀ + -277.2...\n",
      "                                      6) * (x₁₇ * 0.027866)))\n",
      "16          8.654e-02  6.657e-03  y = ((0.043463 / sqrt(x₁₇)) + (x₂ * 4.1256e-05)) - (((x₀ +...\n",
      "                                       -277.25) * x₁₇) * 0.027787)\n",
      "20          8.345e-02  9.076e-03  y = ((0.0037068 / x₁₇) / exp(x₃ * x₈)) + ((x₂ * 4.1449e-05...\n",
      "                                      ) - ((x₀ + -280.93) * (x₁₇ * 0.029415)))\n",
      "───────────────────────────────────────────────────────────────────────────────────────────────────\n",
      "════════════════════════════════════════════════════════════════════════════════════════════════════\n",
      "Press 'q' and then <enter> to stop execution early.\n",
      "───────────────────────────────────────────────────────────────────────────────────────────────────\n",
      "Complexity  Loss       Score      Equation\n",
      "1           9.444e+00  0.000e+00  y = 3.9314\n",
      "3           3.667e+00  4.730e-01  y = x₁ * 2.7529e-05\n",
      "4           3.104e+00  1.666e-01  y = square(x₂) * 1.5726e-10\n",
      "5           9.125e-01  1.224e+00  y = (x₁ * 3.4499e-05) - x₁₇\n",
      "7           3.467e-01  4.839e-01  y = (x₂ * 4.3556e-05) - (x₁₇ * 1.8927)\n",
      "9           2.868e-01  9.487e-02  y = ((x₀ * x₁₇) * -0.0055669) - (x₂ * -4.3479e-05)\n",
      "11          1.822e-01  2.269e-01  y = (x₂ * 4.2689e-05) - (x₁₇ * ((x₀ * 0.027381) + -7.4798)...\n",
      "                                      )\n",
      "13          1.771e-01  1.419e-02  y = ((x₂ * 4.1316e-05) - ((x₀ + -275.76) * (x₁₇ * 0.029148...\n",
      "                                      ))) + 0.27762\n",
      "15          8.711e-02  3.547e-01  y = (0.0012016 / x₁₇) + ((x₂ * 4.1573e-05) - ((x₀ + -277.2...\n",
      "                                      7) * (x₁₇ * 0.027875)))\n",
      "16          8.645e-02  7.623e-03  y = (0.044705 / sqrt(x₁₇)) + ((x₂ * 4.1023e-05) - ((x₀ + -...\n",
      "                                      284.72) * (x₁₇ * 0.031156)))\n",
      "18          8.528e-02  6.831e-03  y = (((0.0016095 / x₁₇) / exp(x₈)) + (x₂ * 4.146e-05)) - (...\n",
      "                                      ((x₀ + -280.92) * x₁₇) * 0.029427)\n",
      "19          8.342e-02  2.198e-02  y = (((0.0013419 / x₁₇) / (x₃ * x₈)) + (x₂ * 4.1458e-05)) ...\n",
      "                                      - ((x₀ + -280.48) * (x₁₇ * 0.029218))\n",
      "───────────────────────────────────────────────────────────────────────────────────────────────────\n",
      "Average MSE: 0.1223 ± 0.0379\n",
      "  - ../models/pysr_equations\\20250618_190632_XeTnzd\\hall_of_fame.csv\n"
     ]
    }
   ],
   "source": [
    "from sklearn.model_selection import KFold\n",
    "from sklearn.metrics import mean_squared_error\n",
    "import numpy as np\n",
    "from pysr import PySRRegressor\n",
    "\n",
    "vars = list(PARAMETER_RANGES.keys())\n",
    "vars.append('ifc')\n",
    "\n",
    "X = exploaded_df[vars].values\n",
    "y = exploaded_df['Ucell'].values\n",
    "\n",
    "kf = KFold(n_splits=5, shuffle=True, random_state=42)\n",
    "mse_scores = []\n",
    "\n",
    "for train_index, test_index in kf.split(X):\n",
    "    X_train, X_test = X[train_index], X[test_index]\n",
    "    y_train, y_test = y[train_index], y[test_index]\n",
    "\n",
    "    model = PySRRegressor(\n",
    "        niterations=100,\n",
    "        binary_operators=[\"+\", \"-\", \"*\", \"/\"],\n",
    "        unary_operators=[\"exp\", \"log\", \"sqrt\", \"square\", \"cube\"],\n",
    "        loss=\"loss(x, y) = (x - y)^2\",\n",
    "        model_selection=\"best\",\n",
    "        maxsize=20,\n",
    "        maxdepth=5,\n",
    "        ncyclesperiteration=30,\n",
    "        verbosity=1,\n",
    "        output_directory=\"../models/pysr_equations\"\n",
    "    )\n",
    "    model.fit(X_train, y_train)\n",
    "\n",
    "    y_pred = model.predict(X_test)\n",
    "    mse = mean_squared_error(y_test, y_pred)\n",
    "    mse_scores.append(mse)\n",
    "\n",
    "print(f\"Average MSE: {np.mean(mse_scores):.4f} ± {np.std(mse_scores):.4f}\")\n"
   ]
  }
 ],
 "metadata": {
  "kernelspec": {
   "display_name": "AlphaPEM_env (3.12.4)",
   "language": "python",
   "name": "python3"
  },
  "language_info": {
   "codemirror_mode": {
    "name": "ipython",
    "version": 3
   },
   "file_extension": ".py",
   "mimetype": "text/x-python",
   "name": "python",
   "nbconvert_exporter": "python",
   "pygments_lexer": "ipython3",
   "version": "3.12.4"
  }
 },
 "nbformat": 4,
 "nbformat_minor": 5
}
